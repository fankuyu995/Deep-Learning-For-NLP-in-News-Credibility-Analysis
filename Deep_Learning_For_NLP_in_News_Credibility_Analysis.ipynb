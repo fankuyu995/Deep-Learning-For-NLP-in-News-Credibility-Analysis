{
  "cells": [
    {
      "cell_type": "markdown",
      "metadata": {
        "id": "mDu5_TYC_qSD"
      },
      "source": [
        "## Import Libraries"
      ]
    },
    {
      "cell_type": "code",
      "execution_count": null,
      "metadata": {
        "id": "sgDjHpdY_Gfe"
      },
      "outputs": [],
      "source": [
        "#Import libraries \n",
        "import tensorflow_datasets as tfds\n",
        "import tensorflow as tf\n",
        "from tensorflow.keras import layers, Sequential\n",
        "import numpy as np\n",
        "import matplotlib.pyplot as plt\n",
        "import pandas as pd\n",
        "\n",
        "from tensorflow.keras.preprocessing.text import Tokenizer\n",
        "from tensorflow.keras.preprocessing.sequence import pad_sequences\n",
        "from sklearn.model_selection import train_test_split\n",
        "from tensorflow import keras\n",
        "import re\n",
        "import seaborn as sb\n",
        "import string\n"
      ]
    },
    {
      "cell_type": "markdown",
      "metadata": {
        "id": "bv4W2219vhES"
      },
      "source": [
        "## Import the dataset"
      ]
    },
    {
      "cell_type": "code",
      "execution_count": null,
      "metadata": {
        "id": "yL52JwGBFcUj"
      },
      "outputs": [],
      "source": [
        "#Read the dataset file\n",
        "\n",
        "default = pd.read_csv('FinNewsCredibility.csv')  \n"
      ]
    },
    {
      "cell_type": "code",
      "execution_count": null,
      "metadata": {
        "colab": {
          "base_uri": "https://localhost:8080/",
          "height": 363
        },
        "id": "E235KZbDbisY",
        "outputId": "a5042ea6-f20d-4b4b-ba67-953cbce38006"
      },
      "outputs": [
        {
          "output_type": "execute_result",
          "data": {
            "text/plain": [
              "         Date                                               Body      Fake\n",
              "0  2019-01-02  \"It's a game really -- like poker,\" said Ms. D...  0.718983\n",
              "1  2019-01-02  \"The market is vulnerable right now,\" said Ter...  0.245023\n",
              "2  2019-01-02  Defense companies including Lockheed Martin Co...  0.889442\n",
              "3  2019-01-02  In cases the department rejected, a U.S. metal...  0.523263\n",
              "4  2019-01-02  For now, analysts still expect profits to keep...  0.859711\n",
              "5  2019-01-02  For every sell order from Fidelity's retail br...  0.915604\n",
              "6  2019-01-02  Meanwhile, firms such as investment giant Blac...  0.884017\n",
              "7  2019-01-02  Revamping the state's incentive program hasn't...  0.940286\n",
              "8  2019-01-02  Two-thirds of projections made by the fracking...  0.351372\n",
              "9  2019-01-02  A former head of strategy lasted even less tim...  0.336440"
            ],
            "text/html": [
              "\n",
              "  <div id=\"df-3cf2fffb-2796-422d-89e0-d8aa025ce854\">\n",
              "    <div class=\"colab-df-container\">\n",
              "      <div>\n",
              "<style scoped>\n",
              "    .dataframe tbody tr th:only-of-type {\n",
              "        vertical-align: middle;\n",
              "    }\n",
              "\n",
              "    .dataframe tbody tr th {\n",
              "        vertical-align: top;\n",
              "    }\n",
              "\n",
              "    .dataframe thead th {\n",
              "        text-align: right;\n",
              "    }\n",
              "</style>\n",
              "<table border=\"1\" class=\"dataframe\">\n",
              "  <thead>\n",
              "    <tr style=\"text-align: right;\">\n",
              "      <th></th>\n",
              "      <th>Date</th>\n",
              "      <th>Body</th>\n",
              "      <th>Fake</th>\n",
              "    </tr>\n",
              "  </thead>\n",
              "  <tbody>\n",
              "    <tr>\n",
              "      <th>0</th>\n",
              "      <td>2019-01-02</td>\n",
              "      <td>\"It's a game really -- like poker,\" said Ms. D...</td>\n",
              "      <td>0.718983</td>\n",
              "    </tr>\n",
              "    <tr>\n",
              "      <th>1</th>\n",
              "      <td>2019-01-02</td>\n",
              "      <td>\"The market is vulnerable right now,\" said Ter...</td>\n",
              "      <td>0.245023</td>\n",
              "    </tr>\n",
              "    <tr>\n",
              "      <th>2</th>\n",
              "      <td>2019-01-02</td>\n",
              "      <td>Defense companies including Lockheed Martin Co...</td>\n",
              "      <td>0.889442</td>\n",
              "    </tr>\n",
              "    <tr>\n",
              "      <th>3</th>\n",
              "      <td>2019-01-02</td>\n",
              "      <td>In cases the department rejected, a U.S. metal...</td>\n",
              "      <td>0.523263</td>\n",
              "    </tr>\n",
              "    <tr>\n",
              "      <th>4</th>\n",
              "      <td>2019-01-02</td>\n",
              "      <td>For now, analysts still expect profits to keep...</td>\n",
              "      <td>0.859711</td>\n",
              "    </tr>\n",
              "    <tr>\n",
              "      <th>5</th>\n",
              "      <td>2019-01-02</td>\n",
              "      <td>For every sell order from Fidelity's retail br...</td>\n",
              "      <td>0.915604</td>\n",
              "    </tr>\n",
              "    <tr>\n",
              "      <th>6</th>\n",
              "      <td>2019-01-02</td>\n",
              "      <td>Meanwhile, firms such as investment giant Blac...</td>\n",
              "      <td>0.884017</td>\n",
              "    </tr>\n",
              "    <tr>\n",
              "      <th>7</th>\n",
              "      <td>2019-01-02</td>\n",
              "      <td>Revamping the state's incentive program hasn't...</td>\n",
              "      <td>0.940286</td>\n",
              "    </tr>\n",
              "    <tr>\n",
              "      <th>8</th>\n",
              "      <td>2019-01-02</td>\n",
              "      <td>Two-thirds of projections made by the fracking...</td>\n",
              "      <td>0.351372</td>\n",
              "    </tr>\n",
              "    <tr>\n",
              "      <th>9</th>\n",
              "      <td>2019-01-02</td>\n",
              "      <td>A former head of strategy lasted even less tim...</td>\n",
              "      <td>0.336440</td>\n",
              "    </tr>\n",
              "  </tbody>\n",
              "</table>\n",
              "</div>\n",
              "      <button class=\"colab-df-convert\" onclick=\"convertToInteractive('df-3cf2fffb-2796-422d-89e0-d8aa025ce854')\"\n",
              "              title=\"Convert this dataframe to an interactive table.\"\n",
              "              style=\"display:none;\">\n",
              "        \n",
              "  <svg xmlns=\"http://www.w3.org/2000/svg\" height=\"24px\"viewBox=\"0 0 24 24\"\n",
              "       width=\"24px\">\n",
              "    <path d=\"M0 0h24v24H0V0z\" fill=\"none\"/>\n",
              "    <path d=\"M18.56 5.44l.94 2.06.94-2.06 2.06-.94-2.06-.94-.94-2.06-.94 2.06-2.06.94zm-11 1L8.5 8.5l.94-2.06 2.06-.94-2.06-.94L8.5 2.5l-.94 2.06-2.06.94zm10 10l.94 2.06.94-2.06 2.06-.94-2.06-.94-.94-2.06-.94 2.06-2.06.94z\"/><path d=\"M17.41 7.96l-1.37-1.37c-.4-.4-.92-.59-1.43-.59-.52 0-1.04.2-1.43.59L10.3 9.45l-7.72 7.72c-.78.78-.78 2.05 0 2.83L4 21.41c.39.39.9.59 1.41.59.51 0 1.02-.2 1.41-.59l7.78-7.78 2.81-2.81c.8-.78.8-2.07 0-2.86zM5.41 20L4 18.59l7.72-7.72 1.47 1.35L5.41 20z\"/>\n",
              "  </svg>\n",
              "      </button>\n",
              "      \n",
              "  <style>\n",
              "    .colab-df-container {\n",
              "      display:flex;\n",
              "      flex-wrap:wrap;\n",
              "      gap: 12px;\n",
              "    }\n",
              "\n",
              "    .colab-df-convert {\n",
              "      background-color: #E8F0FE;\n",
              "      border: none;\n",
              "      border-radius: 50%;\n",
              "      cursor: pointer;\n",
              "      display: none;\n",
              "      fill: #1967D2;\n",
              "      height: 32px;\n",
              "      padding: 0 0 0 0;\n",
              "      width: 32px;\n",
              "    }\n",
              "\n",
              "    .colab-df-convert:hover {\n",
              "      background-color: #E2EBFA;\n",
              "      box-shadow: 0px 1px 2px rgba(60, 64, 67, 0.3), 0px 1px 3px 1px rgba(60, 64, 67, 0.15);\n",
              "      fill: #174EA6;\n",
              "    }\n",
              "\n",
              "    [theme=dark] .colab-df-convert {\n",
              "      background-color: #3B4455;\n",
              "      fill: #D2E3FC;\n",
              "    }\n",
              "\n",
              "    [theme=dark] .colab-df-convert:hover {\n",
              "      background-color: #434B5C;\n",
              "      box-shadow: 0px 1px 3px 1px rgba(0, 0, 0, 0.15);\n",
              "      filter: drop-shadow(0px 1px 2px rgba(0, 0, 0, 0.3));\n",
              "      fill: #FFFFFF;\n",
              "    }\n",
              "  </style>\n",
              "\n",
              "      <script>\n",
              "        const buttonEl =\n",
              "          document.querySelector('#df-3cf2fffb-2796-422d-89e0-d8aa025ce854 button.colab-df-convert');\n",
              "        buttonEl.style.display =\n",
              "          google.colab.kernel.accessAllowed ? 'block' : 'none';\n",
              "\n",
              "        async function convertToInteractive(key) {\n",
              "          const element = document.querySelector('#df-3cf2fffb-2796-422d-89e0-d8aa025ce854');\n",
              "          const dataTable =\n",
              "            await google.colab.kernel.invokeFunction('convertToInteractive',\n",
              "                                                     [key], {});\n",
              "          if (!dataTable) return;\n",
              "\n",
              "          const docLinkHtml = 'Like what you see? Visit the ' +\n",
              "            '<a target=\"_blank\" href=https://colab.research.google.com/notebooks/data_table.ipynb>data table notebook</a>'\n",
              "            + ' to learn more about interactive tables.';\n",
              "          element.innerHTML = '';\n",
              "          dataTable['output_type'] = 'display_data';\n",
              "          await google.colab.output.renderOutput(dataTable, element);\n",
              "          const docLink = document.createElement('div');\n",
              "          docLink.innerHTML = docLinkHtml;\n",
              "          element.appendChild(docLink);\n",
              "        }\n",
              "      </script>\n",
              "    </div>\n",
              "  </div>\n",
              "  "
            ]
          },
          "metadata": {},
          "execution_count": 8
        }
      ],
      "source": [
        "default.head(10)"
      ]
    },
    {
      "cell_type": "code",
      "source": [
        "# Inspect the missing values\n",
        "\n",
        "default.isnull().sum()"
      ],
      "metadata": {
        "colab": {
          "base_uri": "https://localhost:8080/"
        },
        "id": "Vrm93NnMlCrW",
        "outputId": "4b10bcdc-dfa7-4769-812b-0c675dc947e4"
      },
      "execution_count": null,
      "outputs": [
        {
          "output_type": "execute_result",
          "data": {
            "text/plain": [
              "Date    0\n",
              "Body    0\n",
              "Fake    0\n",
              "dtype: int64"
            ]
          },
          "metadata": {},
          "execution_count": 53
        }
      ]
    },
    {
      "cell_type": "code",
      "source": [
        "print(\"The data has mean =\", default[\"Fake\"].mean())\n",
        "print(\"The data has range =\", default[\"Fake\"].max() - default[\"Fake\"].min())\n",
        "print(\"The data has skewness =\", default[\"Fake\"].skew())"
      ],
      "metadata": {
        "colab": {
          "base_uri": "https://localhost:8080/"
        },
        "id": "XZIhgXdrEABi",
        "outputId": "f687a709-53f3-412e-c164-5640d6e5c312"
      },
      "execution_count": null,
      "outputs": [
        {
          "output_type": "stream",
          "name": "stdout",
          "text": [
            "The data has mean = 0.3476136110822844\n",
            "The data has range = 0.9656880954280497\n",
            "The data has skewness = 0.8602434050420217\n"
          ]
        }
      ]
    },
    {
      "cell_type": "markdown",
      "metadata": {
        "id": "looM0UKRvll5"
      },
      "source": [
        "## Data Preprocessing\n",
        "\n"
      ]
    },
    {
      "cell_type": "code",
      "execution_count": null,
      "metadata": {
        "id": "ou_MCIecb2T-"
      },
      "outputs": [],
      "source": [
        "#Drop the irrelevant column\n",
        "\n",
        "df = default.drop(\"Date\", axis = 1)"
      ]
    },
    {
      "cell_type": "code",
      "execution_count": null,
      "metadata": {
        "colab": {
          "base_uri": "https://localhost:8080/",
          "height": 363
        },
        "id": "B6PV_IygcIwD",
        "outputId": "3deb8f59-4190-4221-e6b8-a8190f03568e"
      },
      "outputs": [
        {
          "output_type": "execute_result",
          "data": {
            "text/plain": [
              "                                                Body      Fake\n",
              "0  \"It's a game really -- like poker,\" said Ms. D...  0.718983\n",
              "1  \"The market is vulnerable right now,\" said Ter...  0.245023\n",
              "2  Defense companies including Lockheed Martin Co...  0.889442\n",
              "3  In cases the department rejected, a U.S. metal...  0.523263\n",
              "4  For now, analysts still expect profits to keep...  0.859711\n",
              "5  For every sell order from Fidelity's retail br...  0.915604\n",
              "6  Meanwhile, firms such as investment giant Blac...  0.884017\n",
              "7  Revamping the state's incentive program hasn't...  0.940286\n",
              "8  Two-thirds of projections made by the fracking...  0.351372\n",
              "9  A former head of strategy lasted even less tim...  0.336440"
            ],
            "text/html": [
              "\n",
              "  <div id=\"df-b19833ae-e495-4a8c-a710-2104b9eceb8f\">\n",
              "    <div class=\"colab-df-container\">\n",
              "      <div>\n",
              "<style scoped>\n",
              "    .dataframe tbody tr th:only-of-type {\n",
              "        vertical-align: middle;\n",
              "    }\n",
              "\n",
              "    .dataframe tbody tr th {\n",
              "        vertical-align: top;\n",
              "    }\n",
              "\n",
              "    .dataframe thead th {\n",
              "        text-align: right;\n",
              "    }\n",
              "</style>\n",
              "<table border=\"1\" class=\"dataframe\">\n",
              "  <thead>\n",
              "    <tr style=\"text-align: right;\">\n",
              "      <th></th>\n",
              "      <th>Body</th>\n",
              "      <th>Fake</th>\n",
              "    </tr>\n",
              "  </thead>\n",
              "  <tbody>\n",
              "    <tr>\n",
              "      <th>0</th>\n",
              "      <td>\"It's a game really -- like poker,\" said Ms. D...</td>\n",
              "      <td>0.718983</td>\n",
              "    </tr>\n",
              "    <tr>\n",
              "      <th>1</th>\n",
              "      <td>\"The market is vulnerable right now,\" said Ter...</td>\n",
              "      <td>0.245023</td>\n",
              "    </tr>\n",
              "    <tr>\n",
              "      <th>2</th>\n",
              "      <td>Defense companies including Lockheed Martin Co...</td>\n",
              "      <td>0.889442</td>\n",
              "    </tr>\n",
              "    <tr>\n",
              "      <th>3</th>\n",
              "      <td>In cases the department rejected, a U.S. metal...</td>\n",
              "      <td>0.523263</td>\n",
              "    </tr>\n",
              "    <tr>\n",
              "      <th>4</th>\n",
              "      <td>For now, analysts still expect profits to keep...</td>\n",
              "      <td>0.859711</td>\n",
              "    </tr>\n",
              "    <tr>\n",
              "      <th>5</th>\n",
              "      <td>For every sell order from Fidelity's retail br...</td>\n",
              "      <td>0.915604</td>\n",
              "    </tr>\n",
              "    <tr>\n",
              "      <th>6</th>\n",
              "      <td>Meanwhile, firms such as investment giant Blac...</td>\n",
              "      <td>0.884017</td>\n",
              "    </tr>\n",
              "    <tr>\n",
              "      <th>7</th>\n",
              "      <td>Revamping the state's incentive program hasn't...</td>\n",
              "      <td>0.940286</td>\n",
              "    </tr>\n",
              "    <tr>\n",
              "      <th>8</th>\n",
              "      <td>Two-thirds of projections made by the fracking...</td>\n",
              "      <td>0.351372</td>\n",
              "    </tr>\n",
              "    <tr>\n",
              "      <th>9</th>\n",
              "      <td>A former head of strategy lasted even less tim...</td>\n",
              "      <td>0.336440</td>\n",
              "    </tr>\n",
              "  </tbody>\n",
              "</table>\n",
              "</div>\n",
              "      <button class=\"colab-df-convert\" onclick=\"convertToInteractive('df-b19833ae-e495-4a8c-a710-2104b9eceb8f')\"\n",
              "              title=\"Convert this dataframe to an interactive table.\"\n",
              "              style=\"display:none;\">\n",
              "        \n",
              "  <svg xmlns=\"http://www.w3.org/2000/svg\" height=\"24px\"viewBox=\"0 0 24 24\"\n",
              "       width=\"24px\">\n",
              "    <path d=\"M0 0h24v24H0V0z\" fill=\"none\"/>\n",
              "    <path d=\"M18.56 5.44l.94 2.06.94-2.06 2.06-.94-2.06-.94-.94-2.06-.94 2.06-2.06.94zm-11 1L8.5 8.5l.94-2.06 2.06-.94-2.06-.94L8.5 2.5l-.94 2.06-2.06.94zm10 10l.94 2.06.94-2.06 2.06-.94-2.06-.94-.94-2.06-.94 2.06-2.06.94z\"/><path d=\"M17.41 7.96l-1.37-1.37c-.4-.4-.92-.59-1.43-.59-.52 0-1.04.2-1.43.59L10.3 9.45l-7.72 7.72c-.78.78-.78 2.05 0 2.83L4 21.41c.39.39.9.59 1.41.59.51 0 1.02-.2 1.41-.59l7.78-7.78 2.81-2.81c.8-.78.8-2.07 0-2.86zM5.41 20L4 18.59l7.72-7.72 1.47 1.35L5.41 20z\"/>\n",
              "  </svg>\n",
              "      </button>\n",
              "      \n",
              "  <style>\n",
              "    .colab-df-container {\n",
              "      display:flex;\n",
              "      flex-wrap:wrap;\n",
              "      gap: 12px;\n",
              "    }\n",
              "\n",
              "    .colab-df-convert {\n",
              "      background-color: #E8F0FE;\n",
              "      border: none;\n",
              "      border-radius: 50%;\n",
              "      cursor: pointer;\n",
              "      display: none;\n",
              "      fill: #1967D2;\n",
              "      height: 32px;\n",
              "      padding: 0 0 0 0;\n",
              "      width: 32px;\n",
              "    }\n",
              "\n",
              "    .colab-df-convert:hover {\n",
              "      background-color: #E2EBFA;\n",
              "      box-shadow: 0px 1px 2px rgba(60, 64, 67, 0.3), 0px 1px 3px 1px rgba(60, 64, 67, 0.15);\n",
              "      fill: #174EA6;\n",
              "    }\n",
              "\n",
              "    [theme=dark] .colab-df-convert {\n",
              "      background-color: #3B4455;\n",
              "      fill: #D2E3FC;\n",
              "    }\n",
              "\n",
              "    [theme=dark] .colab-df-convert:hover {\n",
              "      background-color: #434B5C;\n",
              "      box-shadow: 0px 1px 3px 1px rgba(0, 0, 0, 0.15);\n",
              "      filter: drop-shadow(0px 1px 2px rgba(0, 0, 0, 0.3));\n",
              "      fill: #FFFFFF;\n",
              "    }\n",
              "  </style>\n",
              "\n",
              "      <script>\n",
              "        const buttonEl =\n",
              "          document.querySelector('#df-b19833ae-e495-4a8c-a710-2104b9eceb8f button.colab-df-convert');\n",
              "        buttonEl.style.display =\n",
              "          google.colab.kernel.accessAllowed ? 'block' : 'none';\n",
              "\n",
              "        async function convertToInteractive(key) {\n",
              "          const element = document.querySelector('#df-b19833ae-e495-4a8c-a710-2104b9eceb8f');\n",
              "          const dataTable =\n",
              "            await google.colab.kernel.invokeFunction('convertToInteractive',\n",
              "                                                     [key], {});\n",
              "          if (!dataTable) return;\n",
              "\n",
              "          const docLinkHtml = 'Like what you see? Visit the ' +\n",
              "            '<a target=\"_blank\" href=https://colab.research.google.com/notebooks/data_table.ipynb>data table notebook</a>'\n",
              "            + ' to learn more about interactive tables.';\n",
              "          element.innerHTML = '';\n",
              "          dataTable['output_type'] = 'display_data';\n",
              "          await google.colab.output.renderOutput(dataTable, element);\n",
              "          const docLink = document.createElement('div');\n",
              "          docLink.innerHTML = docLinkHtml;\n",
              "          element.appendChild(docLink);\n",
              "        }\n",
              "      </script>\n",
              "    </div>\n",
              "  </div>\n",
              "  "
            ]
          },
          "metadata": {},
          "execution_count": 46
        }
      ],
      "source": [
        "df.head(10)"
      ]
    },
    {
      "cell_type": "code",
      "execution_count": null,
      "metadata": {
        "colab": {
          "base_uri": "https://localhost:8080/",
          "height": 424
        },
        "id": "c1sGyOwNdnoh",
        "outputId": "3934150c-9a1b-4e84-87c7-2e8012db1f21"
      },
      "outputs": [
        {
          "output_type": "execute_result",
          "data": {
            "text/plain": [
              "                                                     Body  Class\n",
              "0       \"It's a game really -- like poker,\" said Ms. D...      1\n",
              "1       \"The market is vulnerable right now,\" said Ter...      0\n",
              "2       Defense companies including Lockheed Martin Co...      1\n",
              "3       In cases the department rejected, a U.S. metal...      1\n",
              "4       For now, analysts still expect profits to keep...      1\n",
              "...                                                   ...    ...\n",
              "106165  For Jumei's ADS holders, the change in the ADS...      0\n",
              "106166  TROY, Mich., Dec. 31, 2019  TROY, Mich., Dec. ...      0\n",
              "106167   ENGLEWOOD, Colo.--(BUSINESS WIRE)--December 3...      0\n",
              "106168  BLUEFIELD, Va., Dec. 31, 2019 (GLOBE NEWSWIRE)...      0\n",
              "106169  NEW YORK, Dec 31 (Reuters) - Drugmakers includ...      1\n",
              "\n",
              "[106170 rows x 2 columns]"
            ],
            "text/html": [
              "\n",
              "  <div id=\"df-55c01eb4-c96c-4109-b2f1-0afcc2fee2d1\">\n",
              "    <div class=\"colab-df-container\">\n",
              "      <div>\n",
              "<style scoped>\n",
              "    .dataframe tbody tr th:only-of-type {\n",
              "        vertical-align: middle;\n",
              "    }\n",
              "\n",
              "    .dataframe tbody tr th {\n",
              "        vertical-align: top;\n",
              "    }\n",
              "\n",
              "    .dataframe thead th {\n",
              "        text-align: right;\n",
              "    }\n",
              "</style>\n",
              "<table border=\"1\" class=\"dataframe\">\n",
              "  <thead>\n",
              "    <tr style=\"text-align: right;\">\n",
              "      <th></th>\n",
              "      <th>Body</th>\n",
              "      <th>Class</th>\n",
              "    </tr>\n",
              "  </thead>\n",
              "  <tbody>\n",
              "    <tr>\n",
              "      <th>0</th>\n",
              "      <td>\"It's a game really -- like poker,\" said Ms. D...</td>\n",
              "      <td>1</td>\n",
              "    </tr>\n",
              "    <tr>\n",
              "      <th>1</th>\n",
              "      <td>\"The market is vulnerable right now,\" said Ter...</td>\n",
              "      <td>0</td>\n",
              "    </tr>\n",
              "    <tr>\n",
              "      <th>2</th>\n",
              "      <td>Defense companies including Lockheed Martin Co...</td>\n",
              "      <td>1</td>\n",
              "    </tr>\n",
              "    <tr>\n",
              "      <th>3</th>\n",
              "      <td>In cases the department rejected, a U.S. metal...</td>\n",
              "      <td>1</td>\n",
              "    </tr>\n",
              "    <tr>\n",
              "      <th>4</th>\n",
              "      <td>For now, analysts still expect profits to keep...</td>\n",
              "      <td>1</td>\n",
              "    </tr>\n",
              "    <tr>\n",
              "      <th>...</th>\n",
              "      <td>...</td>\n",
              "      <td>...</td>\n",
              "    </tr>\n",
              "    <tr>\n",
              "      <th>106165</th>\n",
              "      <td>For Jumei's ADS holders, the change in the ADS...</td>\n",
              "      <td>0</td>\n",
              "    </tr>\n",
              "    <tr>\n",
              "      <th>106166</th>\n",
              "      <td>TROY, Mich., Dec. 31, 2019  TROY, Mich., Dec. ...</td>\n",
              "      <td>0</td>\n",
              "    </tr>\n",
              "    <tr>\n",
              "      <th>106167</th>\n",
              "      <td>ENGLEWOOD, Colo.--(BUSINESS WIRE)--December 3...</td>\n",
              "      <td>0</td>\n",
              "    </tr>\n",
              "    <tr>\n",
              "      <th>106168</th>\n",
              "      <td>BLUEFIELD, Va., Dec. 31, 2019 (GLOBE NEWSWIRE)...</td>\n",
              "      <td>0</td>\n",
              "    </tr>\n",
              "    <tr>\n",
              "      <th>106169</th>\n",
              "      <td>NEW YORK, Dec 31 (Reuters) - Drugmakers includ...</td>\n",
              "      <td>1</td>\n",
              "    </tr>\n",
              "  </tbody>\n",
              "</table>\n",
              "<p>106170 rows × 2 columns</p>\n",
              "</div>\n",
              "      <button class=\"colab-df-convert\" onclick=\"convertToInteractive('df-55c01eb4-c96c-4109-b2f1-0afcc2fee2d1')\"\n",
              "              title=\"Convert this dataframe to an interactive table.\"\n",
              "              style=\"display:none;\">\n",
              "        \n",
              "  <svg xmlns=\"http://www.w3.org/2000/svg\" height=\"24px\"viewBox=\"0 0 24 24\"\n",
              "       width=\"24px\">\n",
              "    <path d=\"M0 0h24v24H0V0z\" fill=\"none\"/>\n",
              "    <path d=\"M18.56 5.44l.94 2.06.94-2.06 2.06-.94-2.06-.94-.94-2.06-.94 2.06-2.06.94zm-11 1L8.5 8.5l.94-2.06 2.06-.94-2.06-.94L8.5 2.5l-.94 2.06-2.06.94zm10 10l.94 2.06.94-2.06 2.06-.94-2.06-.94-.94-2.06-.94 2.06-2.06.94z\"/><path d=\"M17.41 7.96l-1.37-1.37c-.4-.4-.92-.59-1.43-.59-.52 0-1.04.2-1.43.59L10.3 9.45l-7.72 7.72c-.78.78-.78 2.05 0 2.83L4 21.41c.39.39.9.59 1.41.59.51 0 1.02-.2 1.41-.59l7.78-7.78 2.81-2.81c.8-.78.8-2.07 0-2.86zM5.41 20L4 18.59l7.72-7.72 1.47 1.35L5.41 20z\"/>\n",
              "  </svg>\n",
              "      </button>\n",
              "      \n",
              "  <style>\n",
              "    .colab-df-container {\n",
              "      display:flex;\n",
              "      flex-wrap:wrap;\n",
              "      gap: 12px;\n",
              "    }\n",
              "\n",
              "    .colab-df-convert {\n",
              "      background-color: #E8F0FE;\n",
              "      border: none;\n",
              "      border-radius: 50%;\n",
              "      cursor: pointer;\n",
              "      display: none;\n",
              "      fill: #1967D2;\n",
              "      height: 32px;\n",
              "      padding: 0 0 0 0;\n",
              "      width: 32px;\n",
              "    }\n",
              "\n",
              "    .colab-df-convert:hover {\n",
              "      background-color: #E2EBFA;\n",
              "      box-shadow: 0px 1px 2px rgba(60, 64, 67, 0.3), 0px 1px 3px 1px rgba(60, 64, 67, 0.15);\n",
              "      fill: #174EA6;\n",
              "    }\n",
              "\n",
              "    [theme=dark] .colab-df-convert {\n",
              "      background-color: #3B4455;\n",
              "      fill: #D2E3FC;\n",
              "    }\n",
              "\n",
              "    [theme=dark] .colab-df-convert:hover {\n",
              "      background-color: #434B5C;\n",
              "      box-shadow: 0px 1px 3px 1px rgba(0, 0, 0, 0.15);\n",
              "      filter: drop-shadow(0px 1px 2px rgba(0, 0, 0, 0.3));\n",
              "      fill: #FFFFFF;\n",
              "    }\n",
              "  </style>\n",
              "\n",
              "      <script>\n",
              "        const buttonEl =\n",
              "          document.querySelector('#df-55c01eb4-c96c-4109-b2f1-0afcc2fee2d1 button.colab-df-convert');\n",
              "        buttonEl.style.display =\n",
              "          google.colab.kernel.accessAllowed ? 'block' : 'none';\n",
              "\n",
              "        async function convertToInteractive(key) {\n",
              "          const element = document.querySelector('#df-55c01eb4-c96c-4109-b2f1-0afcc2fee2d1');\n",
              "          const dataTable =\n",
              "            await google.colab.kernel.invokeFunction('convertToInteractive',\n",
              "                                                     [key], {});\n",
              "          if (!dataTable) return;\n",
              "\n",
              "          const docLinkHtml = 'Like what you see? Visit the ' +\n",
              "            '<a target=\"_blank\" href=https://colab.research.google.com/notebooks/data_table.ipynb>data table notebook</a>'\n",
              "            + ' to learn more about interactive tables.';\n",
              "          element.innerHTML = '';\n",
              "          dataTable['output_type'] = 'display_data';\n",
              "          await google.colab.output.renderOutput(dataTable, element);\n",
              "          const docLink = document.createElement('div');\n",
              "          docLink.innerHTML = docLinkHtml;\n",
              "          element.appendChild(docLink);\n",
              "        }\n",
              "      </script>\n",
              "    </div>\n",
              "  </div>\n",
              "  "
            ]
          },
          "metadata": {},
          "execution_count": 47
        }
      ],
      "source": [
        "# Add colume \"Class\" for Classifiying \"Fake\" and \"Real\" News\n",
        "# 1 -> Fake; 0 -> Real\n",
        "\n",
        "def Fake_categorization(value):\n",
        "    if value >= 0.5:\n",
        "      return 1\n",
        "    else:\n",
        "      return 0\n",
        "\n",
        "df[\"Class\"] = df[\"Fake\"].map(Fake_categorization)\n",
        "\n",
        "# Drop the \"Fake\" column\n",
        "df = df.drop(\"Fake\", axis = 1)\n",
        "\n",
        "df"
      ]
    },
    {
      "cell_type": "code",
      "execution_count": null,
      "metadata": {
        "id": "PQ0OMsuBwR8X"
      },
      "outputs": [],
      "source": [
        "# Remove unnecessary character such as *,#,@...etc\n",
        "def wordrop(text):\n",
        "    text = text.lower()\n",
        "    text = re.sub('\\[.*?\\]', '', text)\n",
        "    text = re.sub(\"\\\\W\",\" \",text) \n",
        "    text = re.sub('https?://\\S+|www\\.\\S+', '', text)\n",
        "    text = re.sub('<.*?>+', '', text)\n",
        "    text = re.sub('[%s]' % re.escape(string.punctuation), '', text)\n",
        "    text = re.sub('\\n', '', text)\n",
        "    text = re.sub('\\w*\\d\\w*', '', text)    \n",
        "    return text"
      ]
    },
    {
      "cell_type": "code",
      "execution_count": null,
      "metadata": {
        "id": "B5OMdXHFwXLf"
      },
      "outputs": [],
      "source": [
        "df[\"Body\"] = df[\"Body\"].apply(wordrop)"
      ]
    },
    {
      "cell_type": "code",
      "execution_count": null,
      "metadata": {
        "colab": {
          "base_uri": "https://localhost:8080/",
          "height": 424
        },
        "id": "eKqSU6TlxKmQ",
        "outputId": "bc9a4198-d76a-4e4a-f435-adb7c11d0227"
      },
      "outputs": [
        {
          "output_type": "execute_result",
          "data": {
            "text/plain": [
              "                                                     Body  Class\n",
              "0        it s a game really    like poker   said ms  d...      1\n",
              "1        the market is vulnerable right now   said ter...      0\n",
              "2       defense companies including lockheed martin co...      1\n",
              "3       in cases the department rejected  a u s  metal...      1\n",
              "4       for now  analysts still expect profits to keep...      1\n",
              "...                                                   ...    ...\n",
              "106165  for jumei s ads holders  the change in the ads...      0\n",
              "106166  troy  mich   dec      troy  mich   dec      pr...      0\n",
              "106167   englewood  colo    business wire   december  ...      0\n",
              "106168  bluefield  va   dec      globe newswire     fi...      0\n",
              "106169  new york  dec   reuters    drugmakers includin...      1\n",
              "\n",
              "[106170 rows x 2 columns]"
            ],
            "text/html": [
              "\n",
              "  <div id=\"df-c2b45e2b-dccc-47ce-8985-9fd7e3bb6bbe\">\n",
              "    <div class=\"colab-df-container\">\n",
              "      <div>\n",
              "<style scoped>\n",
              "    .dataframe tbody tr th:only-of-type {\n",
              "        vertical-align: middle;\n",
              "    }\n",
              "\n",
              "    .dataframe tbody tr th {\n",
              "        vertical-align: top;\n",
              "    }\n",
              "\n",
              "    .dataframe thead th {\n",
              "        text-align: right;\n",
              "    }\n",
              "</style>\n",
              "<table border=\"1\" class=\"dataframe\">\n",
              "  <thead>\n",
              "    <tr style=\"text-align: right;\">\n",
              "      <th></th>\n",
              "      <th>Body</th>\n",
              "      <th>Class</th>\n",
              "    </tr>\n",
              "  </thead>\n",
              "  <tbody>\n",
              "    <tr>\n",
              "      <th>0</th>\n",
              "      <td>it s a game really    like poker   said ms  d...</td>\n",
              "      <td>1</td>\n",
              "    </tr>\n",
              "    <tr>\n",
              "      <th>1</th>\n",
              "      <td>the market is vulnerable right now   said ter...</td>\n",
              "      <td>0</td>\n",
              "    </tr>\n",
              "    <tr>\n",
              "      <th>2</th>\n",
              "      <td>defense companies including lockheed martin co...</td>\n",
              "      <td>1</td>\n",
              "    </tr>\n",
              "    <tr>\n",
              "      <th>3</th>\n",
              "      <td>in cases the department rejected  a u s  metal...</td>\n",
              "      <td>1</td>\n",
              "    </tr>\n",
              "    <tr>\n",
              "      <th>4</th>\n",
              "      <td>for now  analysts still expect profits to keep...</td>\n",
              "      <td>1</td>\n",
              "    </tr>\n",
              "    <tr>\n",
              "      <th>...</th>\n",
              "      <td>...</td>\n",
              "      <td>...</td>\n",
              "    </tr>\n",
              "    <tr>\n",
              "      <th>106165</th>\n",
              "      <td>for jumei s ads holders  the change in the ads...</td>\n",
              "      <td>0</td>\n",
              "    </tr>\n",
              "    <tr>\n",
              "      <th>106166</th>\n",
              "      <td>troy  mich   dec      troy  mich   dec      pr...</td>\n",
              "      <td>0</td>\n",
              "    </tr>\n",
              "    <tr>\n",
              "      <th>106167</th>\n",
              "      <td>englewood  colo    business wire   december  ...</td>\n",
              "      <td>0</td>\n",
              "    </tr>\n",
              "    <tr>\n",
              "      <th>106168</th>\n",
              "      <td>bluefield  va   dec      globe newswire     fi...</td>\n",
              "      <td>0</td>\n",
              "    </tr>\n",
              "    <tr>\n",
              "      <th>106169</th>\n",
              "      <td>new york  dec   reuters    drugmakers includin...</td>\n",
              "      <td>1</td>\n",
              "    </tr>\n",
              "  </tbody>\n",
              "</table>\n",
              "<p>106170 rows × 2 columns</p>\n",
              "</div>\n",
              "      <button class=\"colab-df-convert\" onclick=\"convertToInteractive('df-c2b45e2b-dccc-47ce-8985-9fd7e3bb6bbe')\"\n",
              "              title=\"Convert this dataframe to an interactive table.\"\n",
              "              style=\"display:none;\">\n",
              "        \n",
              "  <svg xmlns=\"http://www.w3.org/2000/svg\" height=\"24px\"viewBox=\"0 0 24 24\"\n",
              "       width=\"24px\">\n",
              "    <path d=\"M0 0h24v24H0V0z\" fill=\"none\"/>\n",
              "    <path d=\"M18.56 5.44l.94 2.06.94-2.06 2.06-.94-2.06-.94-.94-2.06-.94 2.06-2.06.94zm-11 1L8.5 8.5l.94-2.06 2.06-.94-2.06-.94L8.5 2.5l-.94 2.06-2.06.94zm10 10l.94 2.06.94-2.06 2.06-.94-2.06-.94-.94-2.06-.94 2.06-2.06.94z\"/><path d=\"M17.41 7.96l-1.37-1.37c-.4-.4-.92-.59-1.43-.59-.52 0-1.04.2-1.43.59L10.3 9.45l-7.72 7.72c-.78.78-.78 2.05 0 2.83L4 21.41c.39.39.9.59 1.41.59.51 0 1.02-.2 1.41-.59l7.78-7.78 2.81-2.81c.8-.78.8-2.07 0-2.86zM5.41 20L4 18.59l7.72-7.72 1.47 1.35L5.41 20z\"/>\n",
              "  </svg>\n",
              "      </button>\n",
              "      \n",
              "  <style>\n",
              "    .colab-df-container {\n",
              "      display:flex;\n",
              "      flex-wrap:wrap;\n",
              "      gap: 12px;\n",
              "    }\n",
              "\n",
              "    .colab-df-convert {\n",
              "      background-color: #E8F0FE;\n",
              "      border: none;\n",
              "      border-radius: 50%;\n",
              "      cursor: pointer;\n",
              "      display: none;\n",
              "      fill: #1967D2;\n",
              "      height: 32px;\n",
              "      padding: 0 0 0 0;\n",
              "      width: 32px;\n",
              "    }\n",
              "\n",
              "    .colab-df-convert:hover {\n",
              "      background-color: #E2EBFA;\n",
              "      box-shadow: 0px 1px 2px rgba(60, 64, 67, 0.3), 0px 1px 3px 1px rgba(60, 64, 67, 0.15);\n",
              "      fill: #174EA6;\n",
              "    }\n",
              "\n",
              "    [theme=dark] .colab-df-convert {\n",
              "      background-color: #3B4455;\n",
              "      fill: #D2E3FC;\n",
              "    }\n",
              "\n",
              "    [theme=dark] .colab-df-convert:hover {\n",
              "      background-color: #434B5C;\n",
              "      box-shadow: 0px 1px 3px 1px rgba(0, 0, 0, 0.15);\n",
              "      filter: drop-shadow(0px 1px 2px rgba(0, 0, 0, 0.3));\n",
              "      fill: #FFFFFF;\n",
              "    }\n",
              "  </style>\n",
              "\n",
              "      <script>\n",
              "        const buttonEl =\n",
              "          document.querySelector('#df-c2b45e2b-dccc-47ce-8985-9fd7e3bb6bbe button.colab-df-convert');\n",
              "        buttonEl.style.display =\n",
              "          google.colab.kernel.accessAllowed ? 'block' : 'none';\n",
              "\n",
              "        async function convertToInteractive(key) {\n",
              "          const element = document.querySelector('#df-c2b45e2b-dccc-47ce-8985-9fd7e3bb6bbe');\n",
              "          const dataTable =\n",
              "            await google.colab.kernel.invokeFunction('convertToInteractive',\n",
              "                                                     [key], {});\n",
              "          if (!dataTable) return;\n",
              "\n",
              "          const docLinkHtml = 'Like what you see? Visit the ' +\n",
              "            '<a target=\"_blank\" href=https://colab.research.google.com/notebooks/data_table.ipynb>data table notebook</a>'\n",
              "            + ' to learn more about interactive tables.';\n",
              "          element.innerHTML = '';\n",
              "          dataTable['output_type'] = 'display_data';\n",
              "          await google.colab.output.renderOutput(dataTable, element);\n",
              "          const docLink = document.createElement('div');\n",
              "          docLink.innerHTML = docLinkHtml;\n",
              "          element.appendChild(docLink);\n",
              "        }\n",
              "      </script>\n",
              "    </div>\n",
              "  </div>\n",
              "  "
            ]
          },
          "metadata": {},
          "execution_count": 50
        }
      ],
      "source": [
        "df"
      ]
    },
    {
      "cell_type": "markdown",
      "metadata": {
        "id": "TfKW_k9zu83I"
      },
      "source": [
        "## Class balance"
      ]
    },
    {
      "cell_type": "code",
      "execution_count": null,
      "metadata": {
        "colab": {
          "base_uri": "https://localhost:8080/",
          "height": 296
        },
        "id": "RuLs3ymviSgA",
        "outputId": "e3d31209-5c08-445d-a737-c69bd758a96a"
      },
      "outputs": [
        {
          "output_type": "execute_result",
          "data": {
            "text/plain": [
              "<matplotlib.axes._subplots.AxesSubplot at 0x7f4b48235850>"
            ]
          },
          "metadata": {},
          "execution_count": 15
        },
        {
          "output_type": "display_data",
          "data": {
            "text/plain": [
              "<Figure size 432x288 with 1 Axes>"
            ],
            "image/png": "[encoded data removed]"
          },
          "metadata": {
            "needs_background": "light"
          }
        }
      ],
      "source": [
        "#Visualing the distribution of the \"Class\"\n",
        "def create_distribution(dataFile):\n",
        "    return sb.countplot(x='Class', data=dataFile, palette='hls')\n",
        "\n",
        "create_distribution(df)"
      ]
    },
    {
      "cell_type": "code",
      "source": [
        "df[\"Class\"].value_counts()"
      ],
      "metadata": {
        "colab": {
          "base_uri": "https://localhost:8080/"
        },
        "id": "yGzcJQm1IHV2",
        "outputId": "c1679349-04bc-4a7a-e186-489dfe73686a"
      },
      "execution_count": null,
      "outputs": [
        {
          "output_type": "execute_result",
          "data": {
            "text/plain": [
              "0    82194\n",
              "1    23976\n",
              "Name: Class, dtype: int64"
            ]
          },
          "metadata": {},
          "execution_count": 202
        }
      ]
    },
    {
      "cell_type": "markdown",
      "metadata": {
        "id": "u-UZXg_PvssK"
      },
      "source": [
        "## Prepare the Training and Testing Data "
      ]
    },
    {
      "cell_type": "code",
      "execution_count": null,
      "metadata": {
        "id": "ON9daVFclDt6"
      },
      "outputs": [],
      "source": [
        "# Split the data into train and validation sets\n",
        "# Size of Train data: Size of Test data = 7:3\n",
        "y = df['Class']                                                                           \n",
        "X = df['Body']                                                                          \n",
        "\n",
        "X_train, X_test, y_train, y_test = train_test_split(X, y, test_size=0.3)  "
      ]
    },
    {
      "cell_type": "code",
      "source": [
        "y_train"
      ],
      "metadata": {
        "colab": {
          "base_uri": "https://localhost:8080/"
        },
        "id": "-ARnRmo8MMvr",
        "outputId": "c6a0ea8f-bcc9-4ed8-fe1e-aaf3be840fed"
      },
      "execution_count": null,
      "outputs": [
        {
          "output_type": "execute_result",
          "data": {
            "text/plain": [
              "21675     0\n",
              "105155    0\n",
              "78373     0\n",
              "68978     0\n",
              "44282     1\n",
              "         ..\n",
              "34166     1\n",
              "75892     0\n",
              "104348    0\n",
              "71746     0\n",
              "36005     1\n",
              "Name: Class, Length: 74319, dtype: int64"
            ]
          },
          "metadata": {},
          "execution_count": 213
        }
      ]
    },
    {
      "cell_type": "code",
      "execution_count": null,
      "metadata": {
        "colab": {
          "base_uri": "https://localhost:8080/"
        },
        "id": "MoPy1A3T36zm",
        "outputId": "e07292d1-3605-4f1b-fe23-70db56e18153"
      },
      "outputs": [
        {
          "output_type": "stream",
          "name": "stdout",
          "text": [
            "There are 74319 sentences for training.\n",
            "\n",
            "There are 74319 labels for training.\n",
            "\n",
            "There are 31851 sentences for validation.\n",
            "\n",
            "There are 31851 labels for validation.\n"
          ]
        }
      ],
      "source": [
        "# initialize sentences and labels lists\n",
        "training_sentences = []\n",
        "training_labels = []\n",
        "\n",
        "testing_sentences = []\n",
        "testing_labels = []\n",
        "\n",
        "\n",
        "for i in X_train.values:\n",
        "  training_sentences.append(i)\n",
        "for i in y_train.values:\n",
        "  training_labels.append(i)\n",
        "for i in X_test.values:\n",
        "  testing_sentences.append(i)\n",
        "for i in y_test.values:\n",
        "  testing_labels.append(i)\n",
        "  \n",
        "training_labels = np.array(training_labels)\n",
        "testing_labels = np.array(testing_labels)\n",
        "\n",
        "print(f\"There are {len(training_sentences)} sentences for training.\\n\")\n",
        "print(f\"There are {len(training_labels)} labels for training.\\n\")\n",
        "print(f\"There are {len(testing_sentences)} sentences for validation.\\n\")\n",
        "print(f\"There are {len(testing_labels)} labels for validation.\")"
      ]
    },
    {
      "cell_type": "code",
      "execution_count": null,
      "metadata": {
        "colab": {
          "base_uri": "https://localhost:8080/"
        },
        "id": "jYyev--2_8eH",
        "outputId": "608c5cb2-aa45-46e2-d946-c775e01c88c7"
      },
      "outputs": [
        {
          "output_type": "stream",
          "name": "stdout",
          "text": [
            "Vocabulary contains 194362 words\n",
            "\n",
            "<OOV> token included in vocabulary\n"
          ]
        }
      ],
      "source": [
        "# Set parameters\n",
        "vocab_size = 10000\n",
        "trunc_type='post'\n",
        "oov_tok = \"<OOV>\"\n",
        "\n",
        "# initialize the Tokenizer class\n",
        "tokenizer = Tokenizer(num_words = vocab_size, oov_token=oov_tok)\n",
        "\n",
        "# generate the word index dictionary from training_sentences\n",
        "# gnerate the word index dictionary for the training sentences\n",
        "tokenizer.fit_on_texts(training_sentences)\n",
        "word_index = tokenizer.word_index\n",
        "\n",
        "print(f\"Vocabulary contains {len(word_index)} words\\n\")\n",
        "print(\"<OOV> token included in vocabulary\" if \"<OOV>\" in word_index else \"<OOV> token NOT included in vocabulary\")"
      ]
    },
    {
      "cell_type": "code",
      "execution_count": null,
      "metadata": {
        "colab": {
          "base_uri": "https://localhost:8080/"
        },
        "id": "_bVnvUmGAI0H",
        "outputId": "c3d82de0-94c0-41e0-f2f0-a6326e866ffb"
      },
      "outputs": [
        {
          "output_type": "stream",
          "name": "stdout",
          "text": [
            "Padded and truncated training sequences have shape: (74319, 16)\n",
            "\n",
            "Padded and truncated Testing sequences have shape: (31851, 16)\n"
          ]
        }
      ],
      "source": [
        "max_length = 16\n",
        "\n",
        "# generate and pad the training sequences\n",
        "training_sequences = tokenizer.texts_to_sequences(training_sentences)\n",
        "training_padded = pad_sequences(training_sequences, maxlen=max_length, truncating=trunc_type)\n",
        "\n",
        "# generate and pad the test sequences\n",
        "testing_sequences = tokenizer.texts_to_sequences(testing_sentences)\n",
        "testing_padded = pad_sequences(testing_sequences, maxlen=max_length, truncating=trunc_type)\n",
        "\n",
        "print(f\"Padded and truncated training sequences have shape: {training_padded.shape}\\n\")\n",
        "print(f\"Padded and truncated Testing sequences have shape: {testing_padded.shape}\")"
      ]
    },
    {
      "cell_type": "markdown",
      "source": [
        "## 1st Model - LSTM Model "
      ],
      "metadata": {
        "id": "0s6y4KRZtCJ9"
      }
    },
    {
      "cell_type": "code",
      "execution_count": null,
      "metadata": {
        "colab": {
          "base_uri": "https://localhost:8080/"
        },
        "id": "MdgpVNtfaRlk",
        "outputId": "e63588ae-3063-4840-a26a-9fdf6ad63e41"
      },
      "outputs": [
        {
          "output_type": "stream",
          "name": "stdout",
          "text": [
            "Model: \"LSTM_Model\"\n",
            "_________________________________________________________________\n",
            " Layer (type)                Output Shape              Param #   \n",
            "=================================================================\n",
            " embedding_34 (Embedding)    (None, 16, 100)           1000000   \n",
            "                                                                 \n",
            " lstm_54 (LSTM)              (None, 100)               80400     \n",
            "                                                                 \n",
            " dense_68 (Dense)            (None, 32)                3232      \n",
            "                                                                 \n",
            " dense_69 (Dense)            (None, 1)                 33        \n",
            "                                                                 \n",
            "=================================================================\n",
            "Total params: 1,083,665\n",
            "Trainable params: 1,083,665\n",
            "Non-trainable params: 0\n",
            "_________________________________________________________________\n",
            "Epoch 1/20\n",
            "146/146 [==============================] - 3s 12ms/step - loss: 0.3414 - accuracy: 0.8625 - val_loss: 0.2949 - val_accuracy: 0.8763\n",
            "Epoch 2/20\n",
            "146/146 [==============================] - 1s 8ms/step - loss: 0.2652 - accuracy: 0.8859 - val_loss: 0.2965 - val_accuracy: 0.8741\n",
            "Epoch 3/20\n",
            "146/146 [==============================] - 1s 8ms/step - loss: 0.2509 - accuracy: 0.8915 - val_loss: 0.3093 - val_accuracy: 0.8730\n",
            "Epoch 4/20\n",
            "146/146 [==============================] - 1s 9ms/step - loss: 0.2383 - accuracy: 0.8972 - val_loss: 0.3119 - val_accuracy: 0.8732\n",
            "Epoch 5/20\n",
            "146/146 [==============================] - 1s 8ms/step - loss: 0.2240 - accuracy: 0.9039 - val_loss: 0.3200 - val_accuracy: 0.8697\n",
            "Epoch 6/20\n",
            "146/146 [==============================] - 1s 8ms/step - loss: 0.2108 - accuracy: 0.9097 - val_loss: 0.3351 - val_accuracy: 0.8690\n",
            "Epoch 7/20\n",
            "146/146 [==============================] - 1s 8ms/step - loss: 0.1994 - accuracy: 0.9146 - val_loss: 0.3664 - val_accuracy: 0.8660\n",
            "Epoch 8/20\n",
            "146/146 [==============================] - 1s 8ms/step - loss: 0.1879 - accuracy: 0.9190 - val_loss: 0.4267 - val_accuracy: 0.8668\n",
            "Epoch 9/20\n",
            "146/146 [==============================] - 1s 8ms/step - loss: 0.1767 - accuracy: 0.9228 - val_loss: 0.4213 - val_accuracy: 0.8630\n",
            "Epoch 10/20\n",
            "146/146 [==============================] - 1s 8ms/step - loss: 0.1680 - accuracy: 0.9269 - val_loss: 0.4639 - val_accuracy: 0.8628\n",
            "Epoch 11/20\n",
            "146/146 [==============================] - 1s 8ms/step - loss: 0.1602 - accuracy: 0.9286 - val_loss: 0.5562 - val_accuracy: 0.8612\n",
            "Epoch 12/20\n",
            "146/146 [==============================] - 1s 8ms/step - loss: 0.1536 - accuracy: 0.9313 - val_loss: 0.5694 - val_accuracy: 0.8608\n",
            "Epoch 13/20\n",
            "146/146 [==============================] - 1s 8ms/step - loss: 0.1478 - accuracy: 0.9327 - val_loss: 0.5706 - val_accuracy: 0.8578\n",
            "Epoch 14/20\n",
            "146/146 [==============================] - 1s 8ms/step - loss: 0.1422 - accuracy: 0.9346 - val_loss: 0.6247 - val_accuracy: 0.8602\n",
            "Epoch 15/20\n",
            "146/146 [==============================] - 1s 8ms/step - loss: 0.1403 - accuracy: 0.9351 - val_loss: 0.6510 - val_accuracy: 0.8548\n",
            "Epoch 16/20\n",
            "146/146 [==============================] - 1s 8ms/step - loss: 0.1362 - accuracy: 0.9370 - val_loss: 0.6658 - val_accuracy: 0.8554\n",
            "Epoch 17/20\n",
            "146/146 [==============================] - 1s 9ms/step - loss: 0.1321 - accuracy: 0.9386 - val_loss: 0.7094 - val_accuracy: 0.8571\n",
            "Epoch 18/20\n",
            "146/146 [==============================] - 1s 8ms/step - loss: 0.1287 - accuracy: 0.9393 - val_loss: 0.7217 - val_accuracy: 0.8567\n",
            "Epoch 19/20\n",
            "146/146 [==============================] - 1s 9ms/step - loss: 0.1249 - accuracy: 0.9401 - val_loss: 0.7873 - val_accuracy: 0.8594\n",
            "Epoch 20/20\n",
            "146/146 [==============================] - 1s 8ms/step - loss: 0.1226 - accuracy: 0.9410 - val_loss: 0.8276 - val_accuracy: 0.8599\n"
          ]
        }
      ],
      "source": [
        "# hyperparameters\n",
        "embedding_dim = 100\n",
        "state_dim = 64\n",
        "dense_dim = 32\n",
        "max_length = 16\n",
        "\n",
        "# model definition\n",
        "model = Sequential([layers.Embedding(vocab_size, embedding_dim, input_length=max_length),\n",
        "                                layers.LSTM(100),\n",
        "                                layers.Dense(dense_dim, activation='relu'),\n",
        "                                layers.Dense(1, activation='sigmoid')], name=\"LSTM_Model\")\n",
        "\n",
        "# set the training parameters\n",
        "model.compile(loss='binary_crossentropy', optimizer='adam', metrics=['accuracy'])\n",
        "\n",
        "# print the model summary\n",
        "model.summary()\n",
        "\n",
        "history = model.fit(training_padded, training_labels, batch_size=512, epochs=20, validation_data=(testing_padded, testing_labels))"
      ]
    },
    {
      "cell_type": "code",
      "execution_count": null,
      "metadata": {
        "colab": {
          "base_uri": "https://localhost:8080/"
        },
        "outputId": "2b8319f5-21b2-4960-ca6b-e022695c18c4",
        "id": "qA0NDAZVfjFE"
      },
      "outputs": [
        {
          "output_type": "stream",
          "name": "stdout",
          "text": [
            "146/146 [==============================] - 1s 4ms/step - loss: 0.1159 - accuracy: 0.9448\n"
          ]
        },
        {
          "output_type": "execute_result",
          "data": {
            "text/plain": [
              "[0.11589742451906204, 0.9447920322418213]"
            ]
          },
          "metadata": {},
          "execution_count": 171
        }
      ],
      "source": [
        "#Model evaluation\n",
        "model.evaluate(training_padded, training_labels, batch_size=512)"
      ]
    },
    {
      "cell_type": "code",
      "source": [
        "model.evaluate(testing_padded, testing_labels, batch_size=512)"
      ],
      "metadata": {
        "colab": {
          "base_uri": "https://localhost:8080/"
        },
        "id": "2aMK8PZU-k5e",
        "outputId": "0143f35b-a04e-4a6e-cb21-e1f3ecfb19f9"
      },
      "execution_count": null,
      "outputs": [
        {
          "output_type": "stream",
          "name": "stdout",
          "text": [
            "63/63 [==============================] - 0s 4ms/step - loss: 0.8276 - accuracy: 0.8599\n"
          ]
        },
        {
          "output_type": "execute_result",
          "data": {
            "text/plain": [
              "[0.827599287033081, 0.8599101901054382]"
            ]
          },
          "metadata": {},
          "execution_count": 172
        }
      ]
    },
    {
      "cell_type": "code",
      "execution_count": null,
      "metadata": {
        "colab": {
          "base_uri": "https://localhost:8080/",
          "height": 320
        },
        "outputId": "fd81d396-9899-405d-a047-ac60732e7544",
        "id": "o_KfFlomfn9q"
      },
      "outputs": [
        {
          "output_type": "display_data",
          "data": {
            "text/plain": [
              "<Figure size 1152x360 with 2 Axes>"
            ],
            "image/png": "[encoded data removed]"
          },
          "metadata": {
            "needs_background": "light"
          }
        }
      ],
      "source": [
        "# plot the accuracy and loss history\n",
        "metric_df = pd.DataFrame(history.history)\n",
        "fig, axs = plt.subplots(1, 2, figsize=(16, 5))\n",
        "for metric, ax in zip([\"loss\", \"accuracy\"], axs):\n",
        "  ax.plot(metric_df[metric], label=f'Training {metric}')\n",
        "  ax.plot(metric_df['val_' + metric], label=f'Validation {metric}')\n",
        "  ax.grid(True)\n",
        "  ax.legend()"
      ]
    },
    {
      "cell_type": "markdown",
      "metadata": {
        "id": "TVhuZt5tuhAO"
      },
      "source": [
        "##2nd Model - Bidirectional LSTM Model"
      ]
    },
    {
      "cell_type": "markdown",
      "source": [
        "**Train the Model**"
      ],
      "metadata": {
        "id": "lTllfOyzrnpc"
      }
    },
    {
      "cell_type": "code",
      "execution_count": null,
      "metadata": {
        "colab": {
          "base_uri": "https://localhost:8080/"
        },
        "id": "fSc6bzgGjRtI",
        "outputId": "8f4563ee-8608-40f5-fb6d-8a501d2c93ff"
      },
      "outputs": [
        {
          "output_type": "stream",
          "name": "stdout",
          "text": [
            "Model: \"Bidirectional_LSTM\"\n",
            "_________________________________________________________________\n",
            " Layer (type)                Output Shape              Param #   \n",
            "=================================================================\n",
            " embedding_35 (Embedding)    (None, 16, 100)           1000000   \n",
            "                                                                 \n",
            " bidirectional_51 (Bidirecti  (None, 16, 128)          84480     \n",
            " onal)                                                           \n",
            "                                                                 \n",
            " bidirectional_52 (Bidirecti  (None, 16, 128)          98816     \n",
            " onal)                                                           \n",
            "                                                                 \n",
            " bidirectional_53 (Bidirecti  (None, 128)              98816     \n",
            " onal)                                                           \n",
            "                                                                 \n",
            " dense_70 (Dense)            (None, 32)                4128      \n",
            "                                                                 \n",
            " dense_71 (Dense)            (None, 1)                 33        \n",
            "                                                                 \n",
            "=================================================================\n",
            "Total params: 1,286,273\n",
            "Trainable params: 1,286,273\n",
            "Non-trainable params: 0\n",
            "_________________________________________________________________\n",
            "Epoch 1/20\n",
            "146/146 [==============================] - 15s 39ms/step - loss: 0.3289 - accuracy: 0.8645 - val_loss: 0.2951 - val_accuracy: 0.8774\n",
            "Epoch 2/20\n",
            "146/146 [==============================] - 3s 23ms/step - loss: 0.2606 - accuracy: 0.8879 - val_loss: 0.2983 - val_accuracy: 0.8766\n",
            "Epoch 3/20\n",
            "146/146 [==============================] - 4s 24ms/step - loss: 0.2418 - accuracy: 0.8949 - val_loss: 0.3087 - val_accuracy: 0.8746\n",
            "Epoch 4/20\n",
            "146/146 [==============================] - 3s 22ms/step - loss: 0.2264 - accuracy: 0.9024 - val_loss: 0.3203 - val_accuracy: 0.8683\n",
            "Epoch 5/20\n",
            "146/146 [==============================] - 3s 21ms/step - loss: 0.2141 - accuracy: 0.9086 - val_loss: 0.3384 - val_accuracy: 0.8690\n",
            "Epoch 6/20\n",
            "146/146 [==============================] - 3s 21ms/step - loss: 0.2011 - accuracy: 0.9129 - val_loss: 0.3544 - val_accuracy: 0.8678\n",
            "Epoch 7/20\n",
            "146/146 [==============================] - 3s 21ms/step - loss: 0.1878 - accuracy: 0.9187 - val_loss: 0.3923 - val_accuracy: 0.8701\n",
            "Epoch 8/20\n",
            "146/146 [==============================] - 3s 20ms/step - loss: 0.1758 - accuracy: 0.9233 - val_loss: 0.3975 - val_accuracy: 0.8700\n",
            "Epoch 9/20\n",
            "146/146 [==============================] - 3s 21ms/step - loss: 0.1664 - accuracy: 0.9258 - val_loss: 0.4485 - val_accuracy: 0.8641\n",
            "Epoch 10/20\n",
            "146/146 [==============================] - 3s 21ms/step - loss: 0.1593 - accuracy: 0.9278 - val_loss: 0.4952 - val_accuracy: 0.8582\n",
            "Epoch 11/20\n",
            "146/146 [==============================] - 3s 21ms/step - loss: 0.1519 - accuracy: 0.9310 - val_loss: 0.5247 - val_accuracy: 0.8598\n",
            "Epoch 12/20\n",
            "146/146 [==============================] - 3s 21ms/step - loss: 0.1464 - accuracy: 0.9330 - val_loss: 0.5585 - val_accuracy: 0.8599\n",
            "Epoch 13/20\n",
            "146/146 [==============================] - 3s 21ms/step - loss: 0.1430 - accuracy: 0.9339 - val_loss: 0.5265 - val_accuracy: 0.8643\n",
            "Epoch 14/20\n",
            "146/146 [==============================] - 3s 21ms/step - loss: 0.1383 - accuracy: 0.9357 - val_loss: 0.6043 - val_accuracy: 0.8631\n",
            "Epoch 15/20\n",
            "146/146 [==============================] - 3s 21ms/step - loss: 0.1366 - accuracy: 0.9365 - val_loss: 0.6078 - val_accuracy: 0.8587\n",
            "Epoch 16/20\n",
            "146/146 [==============================] - 3s 21ms/step - loss: 0.1342 - accuracy: 0.9372 - val_loss: 0.6095 - val_accuracy: 0.8587\n",
            "Epoch 17/20\n",
            "146/146 [==============================] - 3s 21ms/step - loss: 0.1295 - accuracy: 0.9391 - val_loss: 0.6659 - val_accuracy: 0.8563\n",
            "Epoch 18/20\n",
            "146/146 [==============================] - 3s 21ms/step - loss: 0.1281 - accuracy: 0.9399 - val_loss: 0.6410 - val_accuracy: 0.8563\n",
            "Epoch 19/20\n",
            "146/146 [==============================] - 3s 20ms/step - loss: 0.1262 - accuracy: 0.9406 - val_loss: 0.6453 - val_accuracy: 0.8554\n",
            "Epoch 20/20\n",
            "146/146 [==============================] - 3s 20ms/step - loss: 0.1240 - accuracy: 0.9418 - val_loss: 0.7062 - val_accuracy: 0.8579\n"
          ]
        }
      ],
      "source": [
        "# hyperparameters\n",
        "embedding_dim = 100\n",
        "state_dim = 64\n",
        "dense_dim = 32\n",
        "max_length = 16\n",
        "\n",
        "# model definition\n",
        "model = Sequential([layers.Embedding(vocab_size, embedding_dim, input_length=max_length),\n",
        "                                layers.Bidirectional(layers.LSTM(state_dim, return_sequences=True)),\n",
        "                                layers.Bidirectional(layers.LSTM(state_dim, return_sequences=True)),\n",
        "                                layers.Bidirectional(layers.LSTM(state_dim)),\n",
        "                                layers.Dense(dense_dim, activation='relu'),\n",
        "                                layers.Dense(1, activation='sigmoid')], name=\"Bidirectional_LSTM\")\n",
        "\n",
        "# set the training parameters\n",
        "model.compile(loss='binary_crossentropy', optimizer='adam', metrics=['accuracy'])\n",
        "\n",
        "# print the model summary\n",
        "model.summary()\n",
        "\n",
        "history = model.fit(training_padded, training_labels, batch_size=512, epochs=20, validation_data=(testing_padded, testing_labels))"
      ]
    },
    {
      "cell_type": "markdown",
      "source": [
        "**Evaluation**"
      ],
      "metadata": {
        "id": "IscZZVStr1be"
      }
    },
    {
      "cell_type": "code",
      "execution_count": null,
      "metadata": {
        "colab": {
          "base_uri": "https://localhost:8080/"
        },
        "id": "zTD6mgRSOqYs",
        "outputId": "6e389911-fca9-4fb7-f86a-52f63363fe97"
      },
      "outputs": [
        {
          "output_type": "stream",
          "name": "stdout",
          "text": [
            "146/146 [==============================] - 1s 9ms/step - loss: 0.1165 - accuracy: 0.9452\n"
          ]
        },
        {
          "output_type": "execute_result",
          "data": {
            "text/plain": [
              "[0.11653302609920502, 0.9452226161956787]"
            ]
          },
          "metadata": {},
          "execution_count": 175
        }
      ],
      "source": [
        "#Model evaluation\n",
        "model.evaluate(training_padded, training_labels, batch_size=512)"
      ]
    },
    {
      "cell_type": "code",
      "source": [
        "model.evaluate(testing_padded, testing_labels, batch_size=512)"
      ],
      "metadata": {
        "colab": {
          "base_uri": "https://localhost:8080/"
        },
        "outputId": "09a75546-0feb-47d2-de37-32b447fc5551",
        "id": "eN-jKWDr_FGY"
      },
      "execution_count": null,
      "outputs": [
        {
          "output_type": "stream",
          "name": "stdout",
          "text": [
            "63/63 [==============================] - 1s 9ms/step - loss: 0.7062 - accuracy: 0.8579\n"
          ]
        },
        {
          "output_type": "execute_result",
          "data": {
            "text/plain": [
              "[0.7062010169029236, 0.8579322695732117]"
            ]
          },
          "metadata": {},
          "execution_count": 176
        }
      ]
    },
    {
      "cell_type": "code",
      "execution_count": null,
      "metadata": {
        "colab": {
          "base_uri": "https://localhost:8080/",
          "height": 320
        },
        "id": "LlF2LMuNnDkn",
        "outputId": "938f73f4-030b-4374-92f4-ea294957d63d"
      },
      "outputs": [
        {
          "output_type": "display_data",
          "data": {
            "text/plain": [
              "<Figure size 1152x360 with 2 Axes>"
            ],
            "image/png": "[encoded data removed]"
          },
          "metadata": {
            "needs_background": "light"
          }
        }
      ],
      "source": [
        "# plot the accuracy and loss history\n",
        "metric_df = pd.DataFrame(history.history)\n",
        "fig, axs = plt.subplots(1, 2, figsize=(16, 5))\n",
        "for metric, ax in zip([\"loss\", \"accuracy\"], axs):\n",
        "  ax.plot(metric_df[metric], label=f'Training {metric}')\n",
        "  ax.plot(metric_df['val_' + metric], label=f'Validation {metric}')\n",
        "  ax.grid(True)\n",
        "  ax.legend()"
      ]
    },
    {
      "cell_type": "markdown",
      "metadata": {
        "id": "ToSwiye8rOA5"
      },
      "source": [
        "##Logistic Regression (Tradition Machine Learning Model)"
      ]
    },
    {
      "cell_type": "code",
      "execution_count": null,
      "metadata": {
        "id": "1yQJTG78rSvq"
      },
      "outputs": [],
      "source": [
        "from sklearn.feature_extraction.text import TfidfVectorizer\n",
        "from sklearn.linear_model import LogisticRegression\n",
        "from sklearn.metrics import accuracy_score"
      ]
    },
    {
      "cell_type": "code",
      "source": [
        "# Split the data into train and validation sets\n",
        "# Size of Train data: Size of Test data = 7:3\n",
        "y = df['Class']                                                                           \n",
        "X = df['Body']                                                                          \n",
        "\n",
        "X_train, X_test, y_train, y_test = train_test_split(X, y, test_size=0.3)  "
      ],
      "metadata": {
        "id": "LkU9_q9i3EZI"
      },
      "execution_count": null,
      "outputs": []
    },
    {
      "cell_type": "code",
      "execution_count": null,
      "metadata": {
        "id": "QCykBvjhrpE6"
      },
      "outputs": [],
      "source": [
        "#Convert text to vectors\n",
        "vectorization = TfidfVectorizer()\n",
        "X_train_2 = vectorization.fit_transform(X_train)\n",
        "X_test_2 = vectorization.transform(X_test)\n"
      ]
    },
    {
      "cell_type": "code",
      "source": [
        "print(\"The training sets have shape:\", X_train_2.shape)\n",
        "print(\"The testing sets have shape:\", X_test_2.shape)"
      ],
      "metadata": {
        "colab": {
          "base_uri": "https://localhost:8080/"
        },
        "id": "iCCVVUz1RqhP",
        "outputId": "0596f9c3-20d9-42ad-83a0-7e22cd641ef1"
      },
      "execution_count": null,
      "outputs": [
        {
          "output_type": "stream",
          "name": "stdout",
          "text": [
            "The training sets have shape: (74319, 194891)\n",
            "The testing sets have shape: (31851, 194891)\n"
          ]
        }
      ]
    },
    {
      "cell_type": "code",
      "source": [
        "print(X_train_2)"
      ],
      "metadata": {
        "colab": {
          "base_uri": "https://localhost:8080/"
        },
        "id": "pTZRCjMz26Oi",
        "outputId": "e992a22c-f2d8-4acf-88a8-915b95878315"
      },
      "execution_count": null,
      "outputs": [
        {
          "output_type": "stream",
          "name": "stdout",
          "text": [
            "  (0, 69279)\t0.006362653749227441\n",
            "  (0, 56237)\t0.006376517778388803\n",
            "  (0, 121830)\t0.016393535627305864\n",
            "  (0, 119310)\t0.0062389010744685405\n",
            "  (0, 89414)\t0.006073466108938934\n",
            "  (0, 48506)\t0.00608127644157135\n",
            "  (0, 53863)\t0.006708727814962137\n",
            "  (0, 34543)\t0.006046829211223242\n",
            "  (0, 191104)\t0.013191162738460509\n",
            "  (0, 70660)\t0.0510897795618055\n",
            "  (0, 131472)\t0.04687906953838153\n",
            "  (0, 191029)\t0.015524703350210911\n",
            "  (0, 46320)\t0.014953089023222274\n",
            "  (0, 104617)\t0.019151978620714633\n",
            "  (0, 19548)\t0.06021032884397471\n",
            "  (0, 164959)\t0.025613452170126123\n",
            "  (0, 137495)\t0.012686678020256904\n",
            "  (0, 57019)\t0.02898423284013925\n",
            "  (0, 141651)\t0.022650818203913774\n",
            "  (0, 154590)\t0.02468075527800278\n",
            "  (0, 187795)\t0.008124123031919702\n",
            "  (0, 25281)\t0.04341574160202512\n",
            "  (0, 72757)\t0.04799301464307945\n",
            "  (0, 134943)\t0.034048846065860665\n",
            "  (0, 6221)\t0.03475907120056133\n",
            "  :\t:\n",
            "  (74221, 86796)\t0.0170924056686148\n",
            "  (74221, 172495)\t0.02489450752608188\n",
            "  (74221, 188342)\t0.01507096108846494\n",
            "  (74221, 86400)\t0.06412676602656704\n",
            "  (74221, 124546)\t0.07397930245264359\n",
            "  (74221, 173184)\t0.010498653419841344\n",
            "  (74221, 24640)\t0.013088197791054258\n",
            "  (74221, 180699)\t0.039574583913566656\n",
            "  (74221, 119090)\t0.02566621235636042\n",
            "  (74221, 123645)\t0.17459331166579964\n",
            "  (74221, 190853)\t0.008035668523793959\n",
            "  (74221, 172665)\t0.012746966880714377\n",
            "  (74221, 81327)\t0.008346015514936462\n",
            "  (74221, 82649)\t0.11561826269677575\n",
            "  (74221, 124658)\t0.006839661698490836\n",
            "  (74221, 561)\t0.043827197885690485\n",
            "  (74221, 7023)\t0.22035514372818635\n",
            "  (74221, 111051)\t0.08223875164349558\n",
            "  (74221, 9428)\t0.0359860828869929\n",
            "  (74221, 125488)\t0.20900321455994483\n",
            "  (74221, 172540)\t0.24666437831548388\n",
            "  (74221, 190055)\t0.02964424940527844\n",
            "  (74221, 16100)\t0.013784944813632913\n",
            "  (74221, 74590)\t0.034970271033879355\n",
            "  (74221, 188978)\t0.007608171589953862\n"
          ]
        }
      ]
    },
    {
      "cell_type": "markdown",
      "source": [
        "**Train the Model**"
      ],
      "metadata": {
        "id": "-x4GjSWc4Ini"
      }
    },
    {
      "cell_type": "code",
      "execution_count": null,
      "metadata": {
        "id": "3NnyRhhsr6fS",
        "colab": {
          "base_uri": "https://localhost:8080/"
        },
        "outputId": "282ce990-476b-47ff-896b-b52bfd21edee"
      },
      "outputs": [
        {
          "output_type": "stream",
          "name": "stderr",
          "text": [
            "/usr/local/lib/python3.8/dist-packages/sklearn/linear_model/_logistic.py:814: ConvergenceWarning: lbfgs failed to converge (status=1):\n",
            "STOP: TOTAL NO. of ITERATIONS REACHED LIMIT.\n",
            "\n",
            "Increase the number of iterations (max_iter) or scale the data as shown in:\n",
            "    https://scikit-learn.org/stable/modules/preprocessing.html\n",
            "Please also refer to the documentation for alternative solver options:\n",
            "    https://scikit-learn.org/stable/modules/linear_model.html#logistic-regression\n",
            "  n_iter_i = _check_optimize_result(\n"
          ]
        },
        {
          "output_type": "execute_result",
          "data": {
            "text/plain": [
              "LogisticRegression()"
            ]
          },
          "metadata": {},
          "execution_count": 39
        }
      ],
      "source": [
        "LR = LogisticRegression()\n",
        "LR.fit(X_train_2,y_train)"
      ]
    },
    {
      "cell_type": "code",
      "execution_count": null,
      "metadata": {
        "id": "qkMZnu01sBr8",
        "colab": {
          "base_uri": "https://localhost:8080/"
        },
        "outputId": "8e52a5c1-fec2-4e9e-a012-6abb853e4c21"
      },
      "outputs": [
        {
          "output_type": "stream",
          "name": "stdout",
          "text": [
            "Accuracy score of training sets 0.9255072619977904\n"
          ]
        }
      ],
      "source": [
        "training_pred= LR.predict(X_train_2)\n",
        "training_acc = accuracy_score(training_pred,y_train)\n",
        "print(\"Accuracy score of training sets =\",training_acc)"
      ]
    },
    {
      "cell_type": "code",
      "execution_count": null,
      "metadata": {
        "colab": {
          "base_uri": "https://localhost:8080/"
        },
        "id": "vdD4SSpysJrw",
        "outputId": "c0f08b80-422d-48e8-f29c-e34708a5c23b"
      },
      "outputs": [
        {
          "output_type": "stream",
          "name": "stdout",
          "text": [
            "Accuracy score of testing sets 0.9155611442942471\n"
          ]
        }
      ],
      "source": [
        "testing_pred= LR.predict(X_test_2)\n",
        "testing_acc = accuracy_score(testing_pred,y_test)\n",
        "print(\"Accuracy score of testing sets =\",testing_acc)"
      ]
    },
    {
      "cell_type": "markdown",
      "metadata": {
        "id": "eXvST9mL2XeD"
      },
      "source": [
        "## Improvement I (Alleviating overfitting): Building Model With Pre-Trained embeddings "
      ]
    },
    {
      "cell_type": "code",
      "execution_count": null,
      "metadata": {
        "colab": {
          "base_uri": "https://localhost:8080/"
        },
        "id": "Qad-vMvullNd",
        "outputId": "554e937e-c5fb-435b-e9cc-ab450d719469"
      },
      "outputs": [
        {
          "output_type": "stream",
          "name": "stdout",
          "text": [
            "--2022-12-22 11:54:41--  https://nlp.stanford.edu/data/glove.6B.zip\n",
            "Resolving nlp.stanford.edu (nlp.stanford.edu)... 171.64.67.140\n",
            "Connecting to nlp.stanford.edu (nlp.stanford.edu)|171.64.67.140|:443... connected.\n",
            "HTTP request sent, awaiting response... 301 Moved Permanently\n",
            "Location: https://downloads.cs.stanford.edu/nlp/data/glove.6B.zip [following]\n",
            "--2022-12-22 11:54:42--  https://downloads.cs.stanford.edu/nlp/data/glove.6B.zip\n",
            "Resolving downloads.cs.stanford.edu (downloads.cs.stanford.edu)... 171.64.64.22\n",
            "Connecting to downloads.cs.stanford.edu (downloads.cs.stanford.edu)|171.64.64.22|:443... connected.\n",
            "HTTP request sent, awaiting response... 200 OK\n",
            "Length: 862182613 (822M) [application/zip]\n",
            "Saving to: ‘glove.6B.zip’\n",
            "\n",
            "glove.6B.zip        100%[===================>] 822.24M  5.01MB/s    in 2m 39s  \n",
            "\n",
            "2022-12-22 11:57:21 (5.18 MB/s) - ‘glove.6B.zip’ saved [862182613/862182613]\n",
            "\n",
            "Archive:  glove.6B.zip\n",
            "  inflating: glove/glove.6B.100d.txt  \n"
          ]
        }
      ],
      "source": [
        "# download and extract the word vector file\n",
        "! wget \"https://nlp.stanford.edu/data/glove.6B.zip\"\n",
        "! unzip -j glove.6B.zip \"glove.6B.100d.txt\" -d glove"
      ]
    },
    {
      "cell_type": "code",
      "execution_count": null,
      "metadata": {
        "colab": {
          "base_uri": "https://localhost:8080/"
        },
        "id": "pENvsTRlmb7R",
        "outputId": "2f7678b0-dd5e-4b46-9abf-ddc779f801c7"
      },
      "outputs": [
        {
          "output_type": "stream",
          "name": "stdout",
          "text": [
            "total 332M\n",
            "-rw-rw-r-- 1 root root 332M Aug  4  2014 glove.6B.100d.txt\n"
          ]
        }
      ],
      "source": [
        "!ls -lh glove"
      ]
    },
    {
      "cell_type": "code",
      "execution_count": null,
      "metadata": {
        "colab": {
          "base_uri": "https://localhost:8080/"
        },
        "id": "B_0kOYyNm5Ka",
        "outputId": "fecc5dd9-6e97-4762-b479-8ff19a25a7f0"
      },
      "outputs": [
        {
          "output_type": "stream",
          "name": "stdout",
          "text": [
            "the -0.038194 -0.24487 0.72812 -0.39961 0.083172 0.043953 -0.39141 0.3344 -0.57545 0.087459 0.28787 -0.06731 0.30906 -0.26384 -0.13231 -0.20757 0.33395 -0.33848 -0.31743 -0.48336 0.1464 -0.37304 0.34577 0.052041 0.44946 -0.46971 0.02628 -0.54155 -0.15518 -0.14107 -0.039722 0.28277 0.14393 0.23464 -0.31021 0.086173 0.20397 0.52624 0.17164 -0.082378 -0.71787 -0.41531 0.20335 -0.12763 0.41367 0.55187 0.57908 -0.33477 -0.36559 -0.54857 -0.062892 0.26584 0.30205 0.99775 -0.80481 -3.0243 0.01254 -0.36942 2.2167 0.72201 -0.24978 0.92136 0.034514 0.46745 1.1079 -0.19358 -0.074575 0.23353 -0.052062 -0.22044 0.057162 -0.15806 -0.30798 -0.41625 0.37972 0.15006 -0.53212 -0.2055 -1.2526 0.071624 0.70565 0.49744 -0.42063 0.26148 -1.538 -0.30223 -0.073438 -0.28312 0.37104 -0.25217 0.016215 -0.017099 -0.38984 0.87424 -0.72569 -0.51058 -0.52028 -0.1459 0.8278 0.27062\n",
            ", -0.10767 0.11053 0.59812 -0.54361 0.67396 0.10663 0.038867 0.35481 0.06351 -0.094189 0.15786 -0.81665 0.14172 0.21939 0.58505 -0.52158 0.22783 -0.16642 -0.68228 0.3587 0.42568 0.19021 0.91963 0.57555 0.46185 0.42363 -0.095399 -0.42749 -0.16567 -0.056842 -0.29595 0.26037 -0.26606 -0.070404 -0.27662 0.15821 0.69825 0.43081 0.27952 -0.45437 -0.33801 -0.58184 0.22364 -0.5778 -0.26862 -0.20425 0.56394 -0.58524 -0.14365 -0.64218 0.0054697 -0.35248 0.16162 1.1796 -0.47674 -2.7553 -0.1321 -0.047729 1.0655 1.1034 -0.2208 0.18669 0.13177 0.15117 0.7131 -0.35215 0.91348 0.61783 0.70992 0.23955 -0.14571 -0.37859 -0.045959 -0.47368 0.2385 0.20536 -0.18996 0.32507 -1.1112 -0.36341 0.98679 -0.084776 -0.54008 0.11726 -1.0194 -0.24424 0.12771 0.013884 0.080374 -0.35414 0.34951 -0.7226 0.37549 0.4441 -0.99059 0.61214 -0.35111 -0.83155 0.45293 0.082577\n",
            ". -0.33979 0.20941 0.46348 -0.64792 -0.38377 0.038034 0.17127 0.15978 0.46619 -0.019169 0.41479 -0.34349 0.26872 0.04464 0.42131 -0.41032 0.15459 0.022239 -0.64653 0.25256 0.043136 -0.19445 0.46516 0.45651 0.68588 0.091295 0.21875 -0.70351 0.16785 -0.35079 -0.12634 0.66384 -0.2582 0.036542 -0.13605 0.40253 0.14289 0.38132 -0.12283 -0.45886 -0.25282 -0.30432 -0.11215 -0.26182 -0.22482 -0.44554 0.2991 -0.85612 -0.14503 -0.49086 0.0082973 -0.17491 0.27524 1.4401 -0.21239 -2.8435 -0.27958 -0.45722 1.6386 0.78808 -0.55262 0.65 0.086426 0.39012 1.0632 -0.35379 0.48328 0.346 0.84174 0.098707 -0.24213 -0.27053 0.045287 -0.40147 0.11395 0.0062226 0.036673 0.018518 -1.0213 -0.20806 0.64072 -0.068763 -0.58635 0.33476 -1.1432 -0.1148 -0.25091 -0.45907 -0.096819 -0.17946 -0.063351 -0.67412 -0.068895 0.53604 -0.87773 0.31802 -0.39242 -0.23394 0.47298 -0.028803\n",
            "of -0.1529 -0.24279 0.89837 0.16996 0.53516 0.48784 -0.58826 -0.17982 -1.3581 0.42541 0.15377 0.24215 0.13474 0.41193 0.67043 -0.56418 0.42985 -0.012183 -0.11677 0.31781 0.054177 -0.054273 0.35516 -0.30241 0.31434 -0.33846 0.71715 -0.26855 -0.15837 -0.47467 0.051581 -0.33252 0.15003 -0.1299 -0.54617 -0.37843 0.64261 0.82187 -0.080006 0.078479 -0.96976 -0.57741 0.56491 -0.39873 -0.057099 0.19743 0.065706 -0.48092 -0.20125 -0.40834 0.39456 -0.02642 -0.11838 1.012 -0.53171 -2.7474 -0.042981 -0.74849 1.7574 0.59085 0.04885 0.78267 0.38497 0.42097 0.67882 0.10337 0.6328 -0.026595 0.58647 -0.44332 0.33057 -0.12022 -0.55645 0.073611 0.20915 0.43395 -0.012761 0.089874 -1.7991 0.084808 0.77112 0.63105 -0.90685 0.60326 -1.7515 0.18596 -0.50687 -0.70203 0.66578 -0.81304 0.18712 -0.018488 -0.26757 0.727 -0.59363 -0.34839 -0.56094 -0.591 1.0039 0.20664\n",
            "to -0.1897 0.050024 0.19084 -0.049184 -0.089737 0.21006 -0.54952 0.098377 -0.20135 0.34241 -0.092677 0.161 -0.13268 -0.2816 0.18737 -0.42959 0.96039 0.13972 -1.0781 0.40518 0.50539 -0.55064 0.4844 0.38044 -0.0029055 -0.34942 -0.099696 -0.78368 1.0363 -0.2314 -0.47121 0.57126 -0.21454 0.35958 -0.48319 1.0875 0.28524 0.12447 -0.039248 -0.076732 -0.76343 -0.32409 -0.5749 -1.0893 -0.41811 0.4512 0.12112 -0.51367 -0.13349 -1.1378 -0.28768 0.16774 0.55804 1.5387 0.018859 -2.9721 -0.24216 -0.92495 2.1992 0.28234 -0.3478 0.51621 -0.43387 0.36852 0.74573 0.072102 0.27931 0.92569 -0.050336 -0.85856 -0.1358 -0.92551 -0.33991 -1.0394 -0.067203 -0.21379 -0.4769 0.21377 -0.84008 0.052536 0.59298 0.29604 -0.67644 0.13916 -1.5504 -0.20765 0.7222 0.52056 -0.076221 -0.15194 -0.13134 0.058617 -0.31869 -0.61419 -0.62393 -0.41548 -0.038175 -0.39804 0.47647 -0.15983\n",
            "and -0.071953 0.23127 0.023731 -0.50638 0.33923 0.1959 -0.32943 0.18364 -0.18057 0.28963 0.20448 -0.5496 0.27399 0.58327 0.20468 -0.49228 0.19974 -0.070237 -0.88049 0.29485 0.14071 -0.1009 0.99449 0.36973 0.44554 0.28998 -0.1376 -0.56365 -0.029365 -0.4122 -0.25269 0.63181 -0.44767 0.24363 -0.10813 0.25164 0.46967 0.3755 -0.23613 -0.14129 -0.44537 -0.65737 -0.042421 -0.28636 -0.28811 0.063766 0.20281 -0.53542 0.41307 -0.59722 -0.38614 0.19389 -0.17809 1.6618 -0.011819 -2.3737 0.058427 -0.2698 1.2823 0.81925 -0.22322 0.72932 -0.053211 0.43507 0.85011 -0.42935 0.92664 0.39051 1.0585 -0.24561 -0.18265 -0.5328 0.059518 -0.66019 0.18991 0.28836 -0.2434 0.52784 -0.65762 -0.14081 1.0491 0.5134 -0.23816 0.69895 -1.4813 -0.2487 -0.17936 -0.059137 -0.08056 -0.48782 0.014487 -0.6259 -0.32367 0.41862 -1.0807 0.46742 -0.49931 -0.71895 0.86894 0.19539\n",
            "in 0.085703 -0.22201 0.16569 0.13373 0.38239 0.35401 0.01287 0.22461 -0.43817 0.50164 -0.35874 -0.34983 0.055156 0.69648 -0.17958 0.067926 0.39101 0.16039 -0.26635 -0.21138 0.53698 0.49379 0.9366 0.66902 0.21793 -0.46642 0.22383 -0.36204 -0.17656 0.1748 -0.20367 0.13931 0.019832 -0.10413 -0.20244 0.55003 -0.1546 0.98655 -0.26863 -0.2909 -0.32866 -0.34188 -0.16943 -0.42001 -0.046727 -0.16327 0.70824 -0.74911 -0.091559 -0.96178 -0.19747 0.10282 0.55221 1.3816 -0.65636 -3.2502 -0.31556 -1.2055 1.7709 0.4026 -0.79827 1.1597 -0.33042 0.31382 0.77386 0.22595 0.52471 -0.034053 0.32048 0.079948 0.17752 -0.49426 -0.70045 -0.44569 0.17244 0.20278 0.023292 -0.20677 -1.0158 0.18325 0.56752 0.31821 -0.65011 0.68277 -0.86585 -0.059392 -0.29264 -0.55668 -0.34705 -0.32895 0.40215 -0.12746 -0.20228 0.87368 -0.545 0.79205 -0.20695 -0.074273 0.75808 -0.34243\n",
            "a -0.27086 0.044006 -0.02026 -0.17395 0.6444 0.71213 0.3551 0.47138 -0.29637 0.54427 -0.72294 -0.0047612 0.040611 0.043236 0.29729 0.10725 0.40156 -0.53662 0.033382 0.067396 0.64556 -0.085523 0.14103 0.094539 0.74947 -0.194 -0.68739 -0.41741 -0.22807 0.12 -0.48999 0.80945 0.045138 -0.11898 0.20161 0.39276 -0.20121 0.31354 0.75304 0.25907 -0.11566 -0.029319 0.93499 -0.36067 0.5242 0.23706 0.52715 0.22869 -0.51958 -0.79349 -0.20368 -0.50187 0.18748 0.94282 -0.44834 -3.6792 0.044183 -0.26751 2.1997 0.241 -0.033425 0.69553 -0.64472 -0.0072277 0.89575 0.20015 0.46493 0.61933 -0.1066 0.08691 -0.4623 0.18262 -0.15849 0.020791 0.19373 0.063426 -0.31673 -0.48177 -1.3848 0.13669 0.96859 0.049965 -0.2738 -0.035686 -1.0577 -0.24467 0.90366 -0.12442 0.080776 -0.83401 0.57201 0.088945 -0.42532 -0.018253 -0.079995 -0.28581 -0.01089 -0.4923 0.63687 0.23642\n",
            "\" -0.30457 -0.23645 0.17576 -0.72854 -0.28343 -0.2564 0.26587 0.025309 -0.074775 -0.3766 -0.057774 0.12159 0.34384 0.41928 -0.23236 -0.31547 0.60939 0.25117 -0.68667 0.70873 1.2162 -0.1824 -0.48442 -0.33445 0.30343 1.086 0.49992 -0.20198 0.27959 0.68352 -0.33566 -0.12405 0.059656 0.33617 0.37501 0.56552 0.44867 0.11284 -0.16196 -0.94346 -0.67961 0.18581 0.060653 0.43776 0.13834 -0.48207 -0.56141 -0.25422 -0.52445 0.097003 -0.48925 0.19077 0.21481 1.4969 -0.86665 -3.2846 0.56854 0.41971 1.2294 0.78522 -0.29369 0.63803 -1.5926 -0.20437 1.5306 0.13548 0.50722 0.18742 0.48552 -0.28995 0.19573 0.0046515 0.092879 -0.42444 0.64987 0.52839 0.077908 0.8263 -1.2208 -0.34955 0.49855 -0.64155 -0.72308 0.26566 -1.3643 -0.46364 -0.52048 -1.0525 0.22895 -0.3456 -0.658 -0.16735 0.35158 0.74337 0.26074 0.061104 -0.39079 -0.84557 -0.035432 0.17036\n",
            "'s 0.58854 -0.2025 0.73479 -0.68338 -0.19675 -0.1802 -0.39177 0.34172 -0.60561 0.63816 -0.26695 0.36486 -0.40379 -0.1134 -0.58718 0.2838 0.8025 -0.35303 0.30083 0.078935 0.44416 -0.45906 0.79294 0.50365 0.32805 0.28027 -0.4933 -0.38482 -0.039284 -0.2483 -0.1988 1.1469 0.13228 0.91691 -0.36739 0.89425 0.5426 0.61738 -0.62205 -0.31132 -0.50933 0.23335 1.0826 -0.044637 -0.12767 0.27628 -0.032617 -0.27397 0.77764 -0.50861 0.038307 -0.33679 0.42344 1.2271 -0.53826 -3.2411 0.42626 0.025189 1.3948 0.65085 0.03325 0.37141 0.4044 0.35558 0.98265 -0.61724 0.53901 0.76219 0.30689 0.33065 0.30956 -0.15161 -0.11313 -0.81281 0.6145 -0.44341 -0.19163 -0.089551 -1.5927 0.37405 0.85857 0.54613 -0.31928 0.52598 -1.4802 -0.97931 -0.2939 -0.14724 0.25803 -0.1817 1.0149 0.77649 0.12598 0.54779 -1.0316 0.064599 -0.37523 -0.94475 0.61802 0.39591\n"
          ]
        }
      ],
      "source": [
        "# show the first 10 words (one word per line) in this .txt file\n",
        "! cat glove/glove.6B.100d.txt | head "
      ]
    },
    {
      "cell_type": "code",
      "execution_count": null,
      "metadata": {
        "colab": {
          "base_uri": "https://localhost:8080/"
        },
        "id": "Jqj033o-mcO2",
        "outputId": "be99c36f-2407-412a-d71b-9e0147cf82bf"
      },
      "outputs": [
        {
          "output_type": "stream",
          "name": "stdout",
          "text": [
            "Found 400000 word vectors.\n",
            "number of dimensions: (100,)\n"
          ]
        }
      ],
      "source": [
        "embeddings_index = {}\n",
        "f = open(\"glove/glove.6B.100d.txt\")\n",
        "for line in f:\n",
        "    values = line.split()\n",
        "    word = values[0]\n",
        "    coefs = np.asarray(values[1:], dtype='float32')\n",
        "    embeddings_index[word] = coefs\n",
        "f.close()\n",
        "\n",
        "print(f'Found {len(embeddings_index)} word vectors.')\n",
        "print(f\"number of dimensions: {embeddings_index['hi'].shape}\")"
      ]
    },
    {
      "cell_type": "code",
      "execution_count": null,
      "metadata": {
        "colab": {
          "base_uri": "https://localhost:8080/"
        },
        "id": "ZUA-Fa1grsqC",
        "outputId": "43256fd1-69d8-499e-ebb4-5b4a19b2e770"
      },
      "outputs": [
        {
          "output_type": "stream",
          "name": "stdout",
          "text": [
            "(10000, 100)\n"
          ]
        }
      ],
      "source": [
        "# recall vocab_size = 10000 and embedding_dim = 100\n",
        "\n",
        "embedding_matrix = np.zeros((vocab_size, embedding_dim))\n",
        "\n",
        "for i in range(1, vocab_size):\n",
        "    embedding_vector = embeddings_index.get(tokenizer.index_word[i])\n",
        "    if embedding_vector is not None:\n",
        "        # words not found in embedding index will be all-zeros.\n",
        "        embedding_matrix[i] = embedding_vector\n",
        "        \n",
        "print(embedding_matrix.shape)"
      ]
    },
    {
      "cell_type": "code",
      "execution_count": null,
      "metadata": {
        "colab": {
          "base_uri": "https://localhost:8080/"
        },
        "id": "Ibzxbmhw6GXV",
        "outputId": "15d9c1d1-1394-42b8-9165-813f3bf24d9f"
      },
      "outputs": [
        {
          "output_type": "stream",
          "name": "stdout",
          "text": [
            "the word associated with index 2 in the dictionary is 'the'\n"
          ]
        },
        {
          "output_type": "execute_result",
          "data": {
            "text/plain": [
              "array([ True,  True,  True,  True,  True,  True,  True,  True,  True,\n",
              "        True,  True,  True,  True,  True,  True,  True,  True,  True,\n",
              "        True,  True,  True,  True,  True,  True,  True,  True,  True,\n",
              "        True,  True,  True,  True,  True,  True,  True,  True,  True,\n",
              "        True,  True,  True,  True,  True,  True,  True,  True,  True,\n",
              "        True,  True,  True,  True,  True,  True,  True,  True,  True,\n",
              "        True,  True,  True,  True,  True,  True,  True,  True,  True,\n",
              "        True,  True,  True,  True,  True,  True,  True,  True,  True,\n",
              "        True,  True,  True,  True,  True,  True,  True,  True,  True,\n",
              "        True,  True,  True,  True,  True,  True,  True,  True,  True,\n",
              "        True,  True,  True,  True,  True,  True,  True,  True,  True,\n",
              "        True])"
            ]
          },
          "metadata": {},
          "execution_count": 85
        }
      ],
      "source": [
        "# index 0 is reserved for padding\n",
        "# index 1 represents <OOV>\n",
        "\n",
        "print(f\"the word associated with index 2 in the dictionary is '{tokenizer.index_word[2]}'\")\n",
        "embedding_matrix[2, :]  == embeddings_index['the']"
      ]
    },
    {
      "cell_type": "code",
      "execution_count": null,
      "metadata": {
        "colab": {
          "base_uri": "https://localhost:8080/"
        },
        "id": "HdhAnms3t6-P",
        "outputId": "c6be714d-acda-4313-9941-cd792890abb1"
      },
      "outputs": [
        {
          "output_type": "stream",
          "name": "stdout",
          "text": [
            "the word associated with index 5 in the dictionary is 'to'\n"
          ]
        },
        {
          "output_type": "execute_result",
          "data": {
            "text/plain": [
              "array([False, False, False, False, False, False, False, False, False,\n",
              "       False, False, False, False, False, False, False, False, False,\n",
              "       False, False, False, False, False, False, False, False, False,\n",
              "       False, False, False, False, False, False, False, False, False,\n",
              "       False, False, False, False, False, False, False, False, False,\n",
              "       False, False, False, False, False, False, False, False, False,\n",
              "       False, False, False, False, False, False, False, False, False,\n",
              "       False, False, False, False, False, False, False, False, False,\n",
              "       False, False, False, False, False, False, False, False, False,\n",
              "       False, False, False, False, False, False, False, False, False,\n",
              "       False, False, False, False, False, False, False, False, False,\n",
              "       False])"
            ]
          },
          "metadata": {},
          "execution_count": 86
        }
      ],
      "source": [
        "print(f\"the word associated with index 5 in the dictionary is '{tokenizer.index_word[5]}'\")\n",
        "embedding_matrix[5, :]  == embeddings_index['of']"
      ]
    },
    {
      "cell_type": "markdown",
      "source": [
        "Performance of 1st model (LSTM) after first improvement"
      ],
      "metadata": {
        "id": "FmPeLGxCAFHD"
      }
    },
    {
      "cell_type": "code",
      "execution_count": null,
      "metadata": {
        "colab": {
          "base_uri": "https://localhost:8080/"
        },
        "id": "apUYx10FCmJn",
        "outputId": "329c4e28-31d9-4157-ede6-9041475eb678"
      },
      "outputs": [
        {
          "output_type": "stream",
          "name": "stdout",
          "text": [
            "Model: \"LSTM_Model\"\n",
            "_________________________________________________________________\n",
            " Layer (type)                Output Shape              Param #   \n",
            "=================================================================\n",
            " embedding_36 (Embedding)    (None, 16, 100)           1000000   \n",
            "                                                                 \n",
            " lstm_58 (LSTM)              (None, 100)               80400     \n",
            "                                                                 \n",
            " dense_72 (Dense)            (None, 32)                3232      \n",
            "                                                                 \n",
            " dense_73 (Dense)            (None, 1)                 33        \n",
            "                                                                 \n",
            "=================================================================\n",
            "Total params: 1,083,665\n",
            "Trainable params: 83,665\n",
            "Non-trainable params: 1,000,000\n",
            "_________________________________________________________________\n",
            "Epoch 1/20\n",
            "146/146 [==============================] - 3s 10ms/step - loss: 0.3506 - accuracy: 0.8604 - val_loss: 0.3107 - val_accuracy: 0.8720\n",
            "Epoch 2/20\n",
            "146/146 [==============================] - 1s 7ms/step - loss: 0.3013 - accuracy: 0.8744 - val_loss: 0.3009 - val_accuracy: 0.8735\n",
            "Epoch 3/20\n",
            "146/146 [==============================] - 1s 8ms/step - loss: 0.2911 - accuracy: 0.8777 - val_loss: 0.3010 - val_accuracy: 0.8757\n",
            "Epoch 4/20\n",
            "146/146 [==============================] - 1s 8ms/step - loss: 0.2858 - accuracy: 0.8798 - val_loss: 0.2982 - val_accuracy: 0.8763\n",
            "Epoch 5/20\n",
            "146/146 [==============================] - 1s 7ms/step - loss: 0.2815 - accuracy: 0.8817 - val_loss: 0.2927 - val_accuracy: 0.8792\n",
            "Epoch 6/20\n",
            "146/146 [==============================] - 1s 8ms/step - loss: 0.2786 - accuracy: 0.8825 - val_loss: 0.2901 - val_accuracy: 0.8781\n",
            "Epoch 7/20\n",
            "146/146 [==============================] - 1s 8ms/step - loss: 0.2748 - accuracy: 0.8839 - val_loss: 0.2899 - val_accuracy: 0.8793\n",
            "Epoch 8/20\n",
            "146/146 [==============================] - 1s 7ms/step - loss: 0.2700 - accuracy: 0.8847 - val_loss: 0.2894 - val_accuracy: 0.8788\n",
            "Epoch 9/20\n",
            "146/146 [==============================] - 2s 11ms/step - loss: 0.2668 - accuracy: 0.8866 - val_loss: 0.2909 - val_accuracy: 0.8750\n",
            "Epoch 10/20\n",
            "146/146 [==============================] - 2s 12ms/step - loss: 0.2636 - accuracy: 0.8874 - val_loss: 0.2914 - val_accuracy: 0.8729\n",
            "Epoch 11/20\n",
            "146/146 [==============================] - 1s 9ms/step - loss: 0.2590 - accuracy: 0.8889 - val_loss: 0.2906 - val_accuracy: 0.8782\n",
            "Epoch 12/20\n",
            "146/146 [==============================] - 1s 8ms/step - loss: 0.2541 - accuracy: 0.8903 - val_loss: 0.2924 - val_accuracy: 0.8751\n",
            "Epoch 13/20\n",
            "146/146 [==============================] - 1s 7ms/step - loss: 0.2504 - accuracy: 0.8915 - val_loss: 0.2951 - val_accuracy: 0.8754\n",
            "Epoch 14/20\n",
            "146/146 [==============================] - 1s 7ms/step - loss: 0.2476 - accuracy: 0.8931 - val_loss: 0.3006 - val_accuracy: 0.8675\n",
            "Epoch 15/20\n",
            "146/146 [==============================] - 1s 8ms/step - loss: 0.2403 - accuracy: 0.8968 - val_loss: 0.3016 - val_accuracy: 0.8724\n",
            "Epoch 16/20\n",
            "146/146 [==============================] - 1s 10ms/step - loss: 0.2338 - accuracy: 0.8989 - val_loss: 0.3098 - val_accuracy: 0.8753\n",
            "Epoch 17/20\n",
            "146/146 [==============================] - 1s 9ms/step - loss: 0.2289 - accuracy: 0.9008 - val_loss: 0.3098 - val_accuracy: 0.8714\n",
            "Epoch 18/20\n",
            "146/146 [==============================] - 1s 7ms/step - loss: 0.2221 - accuracy: 0.9041 - val_loss: 0.3091 - val_accuracy: 0.8699\n",
            "Epoch 19/20\n",
            "146/146 [==============================] - 1s 7ms/step - loss: 0.2165 - accuracy: 0.9070 - val_loss: 0.3277 - val_accuracy: 0.8714\n",
            "Epoch 20/20\n",
            "146/146 [==============================] - 2s 10ms/step - loss: 0.2096 - accuracy: 0.9092 - val_loss: 0.3238 - val_accuracy: 0.8735\n"
          ]
        }
      ],
      "source": [
        "# hyperparameters\n",
        "embedding_dim = 100\n",
        "state_dim = 64\n",
        "dense_dim = 32\n",
        "max_length = 16\n",
        "\n",
        "# model definition\n",
        "model = Sequential([layers.Embedding(vocab_size, embedding_dim, input_length=max_length, \n",
        "                                                 embeddings_initializer=tf.keras.initializers.Constant(embedding_matrix), \n",
        "                                                 trainable=False),\n",
        "                                layers.LSTM(100),\n",
        "                                layers.Dense(dense_dim, activation='relu'),\n",
        "                                layers.Dense(1, activation='sigmoid')], name=\"LSTM_Model\")\n",
        "\n",
        "# set the training parameters\n",
        "optimizer_algo = tf.keras.optimizers.SGD(learning_rate=0.1)\n",
        "model.compile(loss='binary_crossentropy', optimizer='adam', metrics=['accuracy'])\n",
        "\n",
        "# print the model summary\n",
        "model.summary()\n",
        "\n",
        "history = model.fit(training_padded, training_labels, batch_size=512, epochs=20, validation_data=(testing_padded, testing_labels))"
      ]
    },
    {
      "cell_type": "code",
      "execution_count": null,
      "metadata": {
        "colab": {
          "base_uri": "https://localhost:8080/"
        },
        "id": "W-g7U3ycLwqO",
        "outputId": "3fc676c2-5fc9-407b-ea83-1c060291a2b4"
      },
      "outputs": [
        {
          "output_type": "stream",
          "name": "stdout",
          "text": [
            "73/73 [==============================] - 0s 5ms/step - loss: 0.1965 - accuracy: 0.9156\n"
          ]
        },
        {
          "output_type": "execute_result",
          "data": {
            "text/plain": [
              "[0.19650733470916748, 0.9155532121658325]"
            ]
          },
          "metadata": {},
          "execution_count": 179
        }
      ],
      "source": [
        "#Model evaluation\n",
        "model.evaluate(training_padded, training_labels, batch_size=1024)"
      ]
    },
    {
      "cell_type": "code",
      "source": [
        "#Model evaluation\n",
        "model.evaluate(testing_padded, testing_labels, batch_size=1024)"
      ],
      "metadata": {
        "colab": {
          "base_uri": "https://localhost:8080/"
        },
        "id": "qgcI6-bPAbMt",
        "outputId": "38481115-dfd5-4e13-a283-aa09f6e5ab8d"
      },
      "execution_count": null,
      "outputs": [
        {
          "output_type": "stream",
          "name": "stdout",
          "text": [
            "32/32 [==============================] - 0s 5ms/step - loss: 0.3238 - accuracy: 0.8735\n"
          ]
        },
        {
          "output_type": "execute_result",
          "data": {
            "text/plain": [
              "[0.3238290250301361, 0.8734733462333679]"
            ]
          },
          "metadata": {},
          "execution_count": 180
        }
      ]
    },
    {
      "cell_type": "code",
      "execution_count": null,
      "metadata": {
        "colab": {
          "base_uri": "https://localhost:8080/",
          "height": 320
        },
        "id": "xEVsh60iMUZq",
        "outputId": "9d9e3279-2773-4461-9d2c-36c17a2e50ed"
      },
      "outputs": [
        {
          "output_type": "display_data",
          "data": {
            "text/plain": [
              "<Figure size 1152x360 with 2 Axes>"
            ],
            "image/png": "[encoded data removed]"
          },
          "metadata": {
            "needs_background": "light"
          }
        }
      ],
      "source": [
        "# plot the accuracy and loss history\n",
        "metric_df = pd.DataFrame(history.history)\n",
        "fig, axs = plt.subplots(1, 2, figsize=(16, 5))\n",
        "for metric, ax in zip([\"loss\", \"accuracy\"], axs):\n",
        "  ax.plot(metric_df[metric], label=f'Training {metric}')\n",
        "  ax.plot(metric_df['val_' + metric], label=f'Validation {metric}')\n",
        "  ax.grid(True)\n",
        "  ax.legend()"
      ]
    },
    {
      "cell_type": "markdown",
      "source": [
        "**Performance of 2nd model (Bidirectional LSTM) after improvement**"
      ],
      "metadata": {
        "id": "W_LVaefnAmkS"
      }
    },
    {
      "cell_type": "code",
      "source": [
        "# hyperparameters\n",
        "embedding_dim = 100\n",
        "state_dim = 64\n",
        "dense_dim = 32\n",
        "max_length = 16\n",
        "\n",
        "# model definition\n",
        "model = Sequential([layers.Embedding(vocab_size, embedding_dim, input_length=max_length, \n",
        "                                                 embeddings_initializer=tf.keras.initializers.Constant(embedding_matrix), \n",
        "                                                 trainable=False),\n",
        "                                layers.Bidirectional(layers.LSTM(state_dim, return_sequences=True)),\n",
        "                                layers.Bidirectional(layers.LSTM(state_dim, return_sequences=True)),\n",
        "                                layers.Bidirectional(layers.LSTM(state_dim)),\n",
        "                                layers.Dense(dense_dim, activation='relu'),\n",
        "                                layers.Dense(1, activation='sigmoid')], name=\"multi_layer\")\n",
        "\n",
        "# set the training parameters\n",
        "model.compile(loss='binary_crossentropy', optimizer='adam', metrics=['accuracy'])\n",
        "\n",
        "# print the model summary\n",
        "model.summary()\n",
        "\n",
        "history = model.fit(training_padded, training_labels, batch_size=512, epochs=20, validation_data=(testing_padded, testing_labels))"
      ],
      "metadata": {
        "colab": {
          "base_uri": "https://localhost:8080/"
        },
        "id": "vQfj6lgaAuoh",
        "outputId": "9cac19e1-4952-4207-cf47-a9898626d644"
      },
      "execution_count": null,
      "outputs": [
        {
          "output_type": "stream",
          "name": "stdout",
          "text": [
            "Model: \"multi_layer\"\n",
            "_________________________________________________________________\n",
            " Layer (type)                Output Shape              Param #   \n",
            "=================================================================\n",
            " embedding_37 (Embedding)    (None, 16, 100)           1000000   \n",
            "                                                                 \n",
            " bidirectional_54 (Bidirecti  (None, 16, 128)          84480     \n",
            " onal)                                                           \n",
            "                                                                 \n",
            " bidirectional_55 (Bidirecti  (None, 16, 128)          98816     \n",
            " onal)                                                           \n",
            "                                                                 \n",
            " bidirectional_56 (Bidirecti  (None, 128)              98816     \n",
            " onal)                                                           \n",
            "                                                                 \n",
            " dense_74 (Dense)            (None, 32)                4128      \n",
            "                                                                 \n",
            " dense_75 (Dense)            (None, 1)                 33        \n",
            "                                                                 \n",
            "=================================================================\n",
            "Total params: 1,286,273\n",
            "Trainable params: 286,273\n",
            "Non-trainable params: 1,000,000\n",
            "_________________________________________________________________\n",
            "Epoch 1/20\n",
            "146/146 [==============================] - 14s 40ms/step - loss: 0.3391 - accuracy: 0.8640 - val_loss: 0.3081 - val_accuracy: 0.8724\n",
            "Epoch 2/20\n",
            "146/146 [==============================] - 3s 19ms/step - loss: 0.2965 - accuracy: 0.8755 - val_loss: 0.2989 - val_accuracy: 0.8762\n",
            "Epoch 3/20\n",
            "146/146 [==============================] - 4s 25ms/step - loss: 0.2883 - accuracy: 0.8790 - val_loss: 0.2976 - val_accuracy: 0.8746\n",
            "Epoch 4/20\n",
            "146/146 [==============================] - 3s 23ms/step - loss: 0.2833 - accuracy: 0.8810 - val_loss: 0.3023 - val_accuracy: 0.8764\n",
            "Epoch 5/20\n",
            "146/146 [==============================] - 3s 20ms/step - loss: 0.2789 - accuracy: 0.8822 - val_loss: 0.2936 - val_accuracy: 0.8790\n",
            "Epoch 6/20\n",
            "146/146 [==============================] - 3s 20ms/step - loss: 0.2736 - accuracy: 0.8836 - val_loss: 0.2922 - val_accuracy: 0.8784\n",
            "Epoch 7/20\n",
            "146/146 [==============================] - 3s 20ms/step - loss: 0.2705 - accuracy: 0.8847 - val_loss: 0.2963 - val_accuracy: 0.8758\n",
            "Epoch 8/20\n",
            "146/146 [==============================] - 3s 20ms/step - loss: 0.2663 - accuracy: 0.8857 - val_loss: 0.2961 - val_accuracy: 0.8763\n",
            "Epoch 9/20\n",
            "146/146 [==============================] - 3s 20ms/step - loss: 0.2626 - accuracy: 0.8866 - val_loss: 0.2914 - val_accuracy: 0.8787\n",
            "Epoch 10/20\n",
            "146/146 [==============================] - 3s 20ms/step - loss: 0.2561 - accuracy: 0.8885 - val_loss: 0.2910 - val_accuracy: 0.8816\n",
            "Epoch 11/20\n",
            "146/146 [==============================] - 3s 20ms/step - loss: 0.2523 - accuracy: 0.8901 - val_loss: 0.2930 - val_accuracy: 0.8779\n",
            "Epoch 12/20\n",
            "146/146 [==============================] - 3s 19ms/step - loss: 0.2487 - accuracy: 0.8925 - val_loss: 0.2966 - val_accuracy: 0.8776\n",
            "Epoch 13/20\n",
            "146/146 [==============================] - 3s 20ms/step - loss: 0.2422 - accuracy: 0.8937 - val_loss: 0.3024 - val_accuracy: 0.8792\n",
            "Epoch 14/20\n",
            "146/146 [==============================] - 3s 20ms/step - loss: 0.2361 - accuracy: 0.8963 - val_loss: 0.3187 - val_accuracy: 0.8628\n",
            "Epoch 15/20\n",
            "146/146 [==============================] - 3s 20ms/step - loss: 0.2305 - accuracy: 0.8992 - val_loss: 0.3082 - val_accuracy: 0.8690\n",
            "Epoch 16/20\n",
            "146/146 [==============================] - 3s 19ms/step - loss: 0.2242 - accuracy: 0.9020 - val_loss: 0.3219 - val_accuracy: 0.8728\n",
            "Epoch 17/20\n",
            "146/146 [==============================] - 3s 19ms/step - loss: 0.2169 - accuracy: 0.9061 - val_loss: 0.3252 - val_accuracy: 0.8663\n",
            "Epoch 18/20\n",
            "146/146 [==============================] - 3s 20ms/step - loss: 0.2107 - accuracy: 0.9075 - val_loss: 0.3355 - val_accuracy: 0.8721\n",
            "Epoch 19/20\n",
            "146/146 [==============================] - 3s 20ms/step - loss: 0.2036 - accuracy: 0.9111 - val_loss: 0.3566 - val_accuracy: 0.8712\n",
            "Epoch 20/20\n",
            "146/146 [==============================] - 3s 20ms/step - loss: 0.1960 - accuracy: 0.9149 - val_loss: 0.3640 - val_accuracy: 0.8698\n"
          ]
        }
      ]
    },
    {
      "cell_type": "code",
      "execution_count": null,
      "metadata": {
        "colab": {
          "base_uri": "https://localhost:8080/"
        },
        "outputId": "5382d463-78b6-46d8-c40a-4b909ac1b778",
        "id": "3EsshDZ-A-Xs"
      },
      "outputs": [
        {
          "output_type": "stream",
          "name": "stdout",
          "text": [
            "73/73 [==============================] - 1s 10ms/step - loss: 0.1840 - accuracy: 0.9206\n"
          ]
        },
        {
          "output_type": "execute_result",
          "data": {
            "text/plain": [
              "[0.18402162194252014, 0.9206393957138062]"
            ]
          },
          "metadata": {},
          "execution_count": 183
        }
      ],
      "source": [
        "#Model evaluation\n",
        "model.evaluate(training_padded, training_labels, batch_size=1024)"
      ]
    },
    {
      "cell_type": "code",
      "source": [
        "#Model evaluation\n",
        "model.evaluate(testing_padded, testing_labels, batch_size=1024)"
      ],
      "metadata": {
        "colab": {
          "base_uri": "https://localhost:8080/"
        },
        "outputId": "16ba8863-ff56-45d0-f3b7-13f7fe30ac1a",
        "id": "Ep7ZQp2AA-Xu"
      },
      "execution_count": null,
      "outputs": [
        {
          "output_type": "stream",
          "name": "stdout",
          "text": [
            "32/32 [==============================] - 0s 12ms/step - loss: 0.3640 - accuracy: 0.8698\n"
          ]
        },
        {
          "output_type": "execute_result",
          "data": {
            "text/plain": [
              "[0.3640194237232208, 0.869831383228302]"
            ]
          },
          "metadata": {},
          "execution_count": 184
        }
      ]
    },
    {
      "cell_type": "code",
      "execution_count": null,
      "metadata": {
        "colab": {
          "base_uri": "https://localhost:8080/",
          "height": 320
        },
        "outputId": "48914b07-3ded-404e-a093-f4cf3dec3dad",
        "id": "uy8kJmWJA-Xu"
      },
      "outputs": [
        {
          "output_type": "display_data",
          "data": {
            "text/plain": [
              "<Figure size 1152x360 with 2 Axes>"
            ],
            "image/png": "[encoded data removed]"
          },
          "metadata": {
            "needs_background": "light"
          }
        }
      ],
      "source": [
        "# plot the accuracy and loss history\n",
        "metric_df = pd.DataFrame(history.history)\n",
        "fig, axs = plt.subplots(1, 2, figsize=(16, 5))\n",
        "for metric, ax in zip([\"loss\", \"accuracy\"], axs):\n",
        "  ax.plot(metric_df[metric], label=f'Training {metric}')\n",
        "  ax.plot(metric_df['val_' + metric], label=f'Validation {metric}')\n",
        "  ax.grid(True)\n",
        "  ax.legend()"
      ]
    },
    {
      "cell_type": "markdown",
      "metadata": {
        "id": "FldIL1X6DIq9"
      },
      "source": [
        "## Improvement II (Alleviating overfitting): Apply Drop out rate"
      ]
    },
    {
      "cell_type": "markdown",
      "source": [
        "**Performance of 1st model (LSTM) after second improvement**"
      ],
      "metadata": {
        "id": "Tjxk-hVSBtME"
      }
    },
    {
      "cell_type": "code",
      "execution_count": null,
      "metadata": {
        "colab": {
          "base_uri": "https://localhost:8080/"
        },
        "outputId": "bab217a0-0a18-45f9-9724-b47a5bc08494",
        "id": "s5Efe2JA6Py1"
      },
      "outputs": [
        {
          "output_type": "stream",
          "name": "stdout",
          "text": [
            "Model: \"LSTM_Model\"\n",
            "_________________________________________________________________\n",
            " Layer (type)                Output Shape              Param #   \n",
            "=================================================================\n",
            " embedding_38 (Embedding)    (None, 16, 100)           1000000   \n",
            "                                                                 \n",
            " dropout_29 (Dropout)        (None, 16, 100)           0         \n",
            "                                                                 \n",
            " lstm_62 (LSTM)              (None, 100)               80400     \n",
            "                                                                 \n",
            " dropout_30 (Dropout)        (None, 100)               0         \n",
            "                                                                 \n",
            " dense_76 (Dense)            (None, 32)                3232      \n",
            "                                                                 \n",
            " dense_77 (Dense)            (None, 1)                 33        \n",
            "                                                                 \n",
            "=================================================================\n",
            "Total params: 1,083,665\n",
            "Trainable params: 83,665\n",
            "Non-trainable params: 1,000,000\n",
            "_________________________________________________________________\n",
            "Epoch 1/20\n",
            "146/146 [==============================] - 3s 11ms/step - loss: 0.3679 - accuracy: 0.8596 - val_loss: 0.3158 - val_accuracy: 0.8717\n",
            "Epoch 2/20\n",
            "146/146 [==============================] - 1s 7ms/step - loss: 0.3125 - accuracy: 0.8735 - val_loss: 0.3056 - val_accuracy: 0.8718\n",
            "Epoch 3/20\n",
            "146/146 [==============================] - 1s 8ms/step - loss: 0.3050 - accuracy: 0.8744 - val_loss: 0.2997 - val_accuracy: 0.8748\n",
            "Epoch 4/20\n",
            "146/146 [==============================] - 1s 7ms/step - loss: 0.2994 - accuracy: 0.8761 - val_loss: 0.2975 - val_accuracy: 0.8763\n",
            "Epoch 5/20\n",
            "146/146 [==============================] - 1s 8ms/step - loss: 0.2949 - accuracy: 0.8780 - val_loss: 0.3011 - val_accuracy: 0.8757\n",
            "Epoch 6/20\n",
            "146/146 [==============================] - 1s 8ms/step - loss: 0.2941 - accuracy: 0.8786 - val_loss: 0.2938 - val_accuracy: 0.8778\n",
            "Epoch 7/20\n",
            "146/146 [==============================] - 1s 8ms/step - loss: 0.2915 - accuracy: 0.8788 - val_loss: 0.2938 - val_accuracy: 0.8781\n",
            "Epoch 8/20\n",
            "146/146 [==============================] - 1s 7ms/step - loss: 0.2898 - accuracy: 0.8802 - val_loss: 0.2965 - val_accuracy: 0.8770\n",
            "Epoch 9/20\n",
            "146/146 [==============================] - 1s 7ms/step - loss: 0.2874 - accuracy: 0.8807 - val_loss: 0.2902 - val_accuracy: 0.8784\n",
            "Epoch 10/20\n",
            "146/146 [==============================] - 1s 7ms/step - loss: 0.2867 - accuracy: 0.8810 - val_loss: 0.3016 - val_accuracy: 0.8785\n",
            "Epoch 11/20\n",
            "146/146 [==============================] - 1s 8ms/step - loss: 0.2853 - accuracy: 0.8815 - val_loss: 0.2890 - val_accuracy: 0.8800\n",
            "Epoch 12/20\n",
            "146/146 [==============================] - 1s 8ms/step - loss: 0.2836 - accuracy: 0.8815 - val_loss: 0.2875 - val_accuracy: 0.8806\n",
            "Epoch 13/20\n",
            "146/146 [==============================] - 1s 9ms/step - loss: 0.2824 - accuracy: 0.8820 - val_loss: 0.2893 - val_accuracy: 0.8799\n",
            "Epoch 14/20\n",
            "146/146 [==============================] - 1s 7ms/step - loss: 0.2810 - accuracy: 0.8828 - val_loss: 0.2874 - val_accuracy: 0.8804\n",
            "Epoch 15/20\n",
            "146/146 [==============================] - 1s 7ms/step - loss: 0.2796 - accuracy: 0.8826 - val_loss: 0.2893 - val_accuracy: 0.8796\n",
            "Epoch 16/20\n",
            "146/146 [==============================] - 1s 7ms/step - loss: 0.2796 - accuracy: 0.8826 - val_loss: 0.2865 - val_accuracy: 0.8803\n",
            "Epoch 17/20\n",
            "146/146 [==============================] - 1s 7ms/step - loss: 0.2779 - accuracy: 0.8834 - val_loss: 0.2858 - val_accuracy: 0.8801\n",
            "Epoch 18/20\n",
            "146/146 [==============================] - 1s 7ms/step - loss: 0.2756 - accuracy: 0.8837 - val_loss: 0.2858 - val_accuracy: 0.8815\n",
            "Epoch 19/20\n",
            "146/146 [==============================] - 1s 7ms/step - loss: 0.2746 - accuracy: 0.8839 - val_loss: 0.2867 - val_accuracy: 0.8808\n",
            "Epoch 20/20\n",
            "146/146 [==============================] - 1s 7ms/step - loss: 0.2743 - accuracy: 0.8839 - val_loss: 0.2889 - val_accuracy: 0.8801\n"
          ]
        }
      ],
      "source": [
        "# hyperparameters\n",
        "embedding_dim = 100\n",
        "state_dim = 64\n",
        "dense_dim = 32\n",
        "max_length = 16\n",
        "\n",
        "# model definition\n",
        "model = Sequential([layers.Embedding(vocab_size, embedding_dim, input_length=max_length, \n",
        "                                                 embeddings_initializer=tf.keras.initializers.Constant(embedding_matrix), \n",
        "                                                 trainable=False),\n",
        "                                layers.Dropout(rate = 0.4),\n",
        "                                layers.LSTM(100),\n",
        "                                layers.Dropout(rate = 0.4),\n",
        "                                layers.Dense(dense_dim, activation='relu'),\n",
        "                                layers.Dense(1, activation='sigmoid')], name=\"LSTM_Model\")\n",
        "\n",
        "# set the training parameters\n",
        "optimizer_algo = tf.keras.optimizers.SGD(learning_rate=0.1)\n",
        "model.compile(loss='binary_crossentropy', optimizer='adam', metrics=['accuracy'])\n",
        "\n",
        "# print the model summary\n",
        "model.summary()\n",
        "\n",
        "history = model.fit(training_padded, training_labels, batch_size=512, epochs=20, validation_data=(testing_padded, testing_labels))"
      ]
    },
    {
      "cell_type": "code",
      "execution_count": null,
      "metadata": {
        "colab": {
          "base_uri": "https://localhost:8080/"
        },
        "outputId": "de8deb40-68a0-44b3-f762-d8261598dccb",
        "id": "Vyi9cWCfBr0_"
      },
      "outputs": [
        {
          "output_type": "stream",
          "name": "stdout",
          "text": [
            "146/146 [==============================] - 1s 4ms/step - loss: 0.2615 - accuracy: 0.8858\n"
          ]
        },
        {
          "output_type": "execute_result",
          "data": {
            "text/plain": [
              "[0.26146093010902405, 0.885776162147522]"
            ]
          },
          "metadata": {},
          "execution_count": 187
        }
      ],
      "source": [
        "#Model evaluation\n",
        "model.evaluate(training_padded, training_labels, batch_size=512)"
      ]
    },
    {
      "cell_type": "code",
      "source": [
        "model.evaluate(testing_padded, testing_labels, batch_size=512)"
      ],
      "metadata": {
        "colab": {
          "base_uri": "https://localhost:8080/"
        },
        "outputId": "07984e15-3399-40d1-8806-a2c9e7fd2ad6",
        "id": "OoeTqp5ZBr0_"
      },
      "execution_count": null,
      "outputs": [
        {
          "output_type": "stream",
          "name": "stdout",
          "text": [
            "63/63 [==============================] - 0s 4ms/step - loss: 0.2889 - accuracy: 0.8801\n"
          ]
        },
        {
          "output_type": "execute_result",
          "data": {
            "text/plain": [
              "[0.2888895571231842, 0.880129337310791]"
            ]
          },
          "metadata": {},
          "execution_count": 188
        }
      ]
    },
    {
      "cell_type": "code",
      "execution_count": null,
      "metadata": {
        "colab": {
          "base_uri": "https://localhost:8080/",
          "height": 322
        },
        "outputId": "397dbdbe-5694-43cc-f0a6-fd0acc08018d",
        "id": "n25qw2gZBr0_"
      },
      "outputs": [
        {
          "output_type": "display_data",
          "data": {
            "text/plain": [
              "<Figure size 1152x360 with 2 Axes>"
            ],
            "image/png": "[encoded data removed]"
          },
          "metadata": {
            "needs_background": "light"
          }
        }
      ],
      "source": [
        "# plot the accuracy and loss history\n",
        "metric_df = pd.DataFrame(history.history)\n",
        "fig, axs = plt.subplots(1, 2, figsize=(16, 5))\n",
        "for metric, ax in zip([\"loss\", \"accuracy\"], axs):\n",
        "  ax.plot(metric_df[metric], label=f'Training {metric}')\n",
        "  ax.plot(metric_df['val_' + metric], label=f'Validation {metric}')\n",
        "  ax.grid(True)\n",
        "  ax.legend()"
      ]
    },
    {
      "cell_type": "markdown",
      "source": [
        "**Performance of 2nd model (Bidirectional LSTM) after second improvement**"
      ],
      "metadata": {
        "id": "Jli-xXcHB5_I"
      }
    },
    {
      "cell_type": "code",
      "source": [
        "# hyperparameters\n",
        "embedding_dim = 100\n",
        "state_dim = 64\n",
        "dense_dim = 32\n",
        "max_length = 16\n",
        "\n",
        "# model definition\n",
        "model = Sequential([layers.Embedding(vocab_size, embedding_dim, input_length=max_length, \n",
        "                                                 embeddings_initializer=tf.keras.initializers.Constant(embedding_matrix), \n",
        "                                                 trainable=False),\n",
        "                                layers.Bidirectional(layers.LSTM(state_dim, return_sequences=True, dropout=0.4)),\n",
        "                                layers.Dropout(rate=0.3),\n",
        "                                layers.Bidirectional(layers.LSTM(state_dim, return_sequences=True, dropout=0.4)),\n",
        "                                layers.Bidirectional(layers.LSTM(state_dim)),\n",
        "                                layers.Dense(dense_dim, activation='relu'),\n",
        "                                layers.Dense(1, activation='sigmoid')], name=\"multi_layer\")\n",
        "\n",
        "# set the training parameters\n",
        "model.compile(loss='binary_crossentropy', optimizer='adam', metrics=['accuracy'])\n",
        "\n",
        "# print the model summary\n",
        "model.summary()\n",
        "\n",
        "history = model.fit(training_padded, training_labels, batch_size=512, epochs=20, validation_data=(testing_padded, testing_labels))"
      ],
      "metadata": {
        "colab": {
          "base_uri": "https://localhost:8080/"
        },
        "outputId": "331d8bf8-d0f2-4e14-a021-3a4ef38e6373",
        "id": "P4SjVKulCDju"
      },
      "execution_count": null,
      "outputs": [
        {
          "output_type": "stream",
          "name": "stdout",
          "text": [
            "Model: \"multi_layer\"\n",
            "_________________________________________________________________\n",
            " Layer (type)                Output Shape              Param #   \n",
            "=================================================================\n",
            " embedding_39 (Embedding)    (None, 16, 100)           1000000   \n",
            "                                                                 \n",
            " bidirectional_57 (Bidirecti  (None, 16, 128)          84480     \n",
            " onal)                                                           \n",
            "                                                                 \n",
            " dropout_31 (Dropout)        (None, 16, 128)           0         \n",
            "                                                                 \n",
            " bidirectional_58 (Bidirecti  (None, 16, 128)          98816     \n",
            " onal)                                                           \n",
            "                                                                 \n",
            " bidirectional_59 (Bidirecti  (None, 128)              98816     \n",
            " onal)                                                           \n",
            "                                                                 \n",
            " dense_78 (Dense)            (None, 32)                4128      \n",
            "                                                                 \n",
            " dense_79 (Dense)            (None, 1)                 33        \n",
            "                                                                 \n",
            "=================================================================\n",
            "Total params: 1,286,273\n",
            "Trainable params: 286,273\n",
            "Non-trainable params: 1,000,000\n",
            "_________________________________________________________________\n",
            "Epoch 1/20\n",
            "146/146 [==============================] - 14s 43ms/step - loss: 0.3476 - accuracy: 0.8658 - val_loss: 0.3130 - val_accuracy: 0.8711\n",
            "Epoch 2/20\n",
            "146/146 [==============================] - 4s 26ms/step - loss: 0.3066 - accuracy: 0.8737 - val_loss: 0.3030 - val_accuracy: 0.8725\n",
            "Epoch 3/20\n",
            "146/146 [==============================] - 3s 21ms/step - loss: 0.2993 - accuracy: 0.8749 - val_loss: 0.2997 - val_accuracy: 0.8759\n",
            "Epoch 4/20\n",
            "146/146 [==============================] - 3s 21ms/step - loss: 0.2942 - accuracy: 0.8776 - val_loss: 0.2980 - val_accuracy: 0.8771\n",
            "Epoch 5/20\n",
            "146/146 [==============================] - 3s 20ms/step - loss: 0.2901 - accuracy: 0.8793 - val_loss: 0.2962 - val_accuracy: 0.8785\n",
            "Epoch 6/20\n",
            "146/146 [==============================] - 3s 21ms/step - loss: 0.2882 - accuracy: 0.8799 - val_loss: 0.2967 - val_accuracy: 0.8788\n",
            "Epoch 7/20\n",
            "146/146 [==============================] - 3s 21ms/step - loss: 0.2858 - accuracy: 0.8811 - val_loss: 0.2926 - val_accuracy: 0.8788\n",
            "Epoch 8/20\n",
            "146/146 [==============================] - 3s 21ms/step - loss: 0.2834 - accuracy: 0.8811 - val_loss: 0.2979 - val_accuracy: 0.8792\n",
            "Epoch 9/20\n",
            "146/146 [==============================] - 3s 20ms/step - loss: 0.2816 - accuracy: 0.8811 - val_loss: 0.2931 - val_accuracy: 0.8794\n",
            "Epoch 10/20\n",
            "146/146 [==============================] - 3s 20ms/step - loss: 0.2809 - accuracy: 0.8820 - val_loss: 0.2888 - val_accuracy: 0.8796\n",
            "Epoch 11/20\n",
            "146/146 [==============================] - 3s 21ms/step - loss: 0.2790 - accuracy: 0.8820 - val_loss: 0.2905 - val_accuracy: 0.8807\n",
            "Epoch 12/20\n",
            "146/146 [==============================] - 3s 21ms/step - loss: 0.2773 - accuracy: 0.8828 - val_loss: 0.2903 - val_accuracy: 0.8797\n",
            "Epoch 13/20\n",
            "146/146 [==============================] - 3s 20ms/step - loss: 0.2770 - accuracy: 0.8834 - val_loss: 0.2866 - val_accuracy: 0.8812\n",
            "Epoch 14/20\n",
            "146/146 [==============================] - 3s 20ms/step - loss: 0.2755 - accuracy: 0.8837 - val_loss: 0.2883 - val_accuracy: 0.8804\n",
            "Epoch 15/20\n",
            "146/146 [==============================] - 3s 21ms/step - loss: 0.2735 - accuracy: 0.8844 - val_loss: 0.2851 - val_accuracy: 0.8813\n",
            "Epoch 16/20\n",
            "146/146 [==============================] - 3s 21ms/step - loss: 0.2724 - accuracy: 0.8846 - val_loss: 0.2878 - val_accuracy: 0.8820\n",
            "Epoch 17/20\n",
            "146/146 [==============================] - 3s 20ms/step - loss: 0.2716 - accuracy: 0.8849 - val_loss: 0.2879 - val_accuracy: 0.8807\n",
            "Epoch 18/20\n",
            "146/146 [==============================] - 4s 25ms/step - loss: 0.2692 - accuracy: 0.8854 - val_loss: 0.2867 - val_accuracy: 0.8825\n",
            "Epoch 19/20\n",
            "146/146 [==============================] - 3s 20ms/step - loss: 0.2687 - accuracy: 0.8859 - val_loss: 0.2867 - val_accuracy: 0.8791\n",
            "Epoch 20/20\n",
            "146/146 [==============================] - 3s 20ms/step - loss: 0.2665 - accuracy: 0.8857 - val_loss: 0.2876 - val_accuracy: 0.8806\n"
          ]
        }
      ]
    },
    {
      "cell_type": "code",
      "execution_count": null,
      "metadata": {
        "colab": {
          "base_uri": "https://localhost:8080/"
        },
        "outputId": "cf6f526f-70d6-493b-aa7f-621e9bc06ebe",
        "id": "UVmnRxGWCIBe"
      },
      "outputs": [
        {
          "output_type": "stream",
          "name": "stdout",
          "text": [
            "146/146 [==============================] - 1s 10ms/step - loss: 0.2546 - accuracy: 0.8909\n"
          ]
        },
        {
          "output_type": "execute_result",
          "data": {
            "text/plain": [
              "[0.2545579671859741, 0.8908892869949341]"
            ]
          },
          "metadata": {},
          "execution_count": 191
        }
      ],
      "source": [
        "#Model evaluation\n",
        "model.evaluate(training_padded, training_labels, batch_size=512)"
      ]
    },
    {
      "cell_type": "code",
      "source": [
        "model.evaluate(testing_padded, testing_labels, batch_size=512)"
      ],
      "metadata": {
        "colab": {
          "base_uri": "https://localhost:8080/"
        },
        "outputId": "65be8cb8-f474-4efc-cb99-3016e78c0ec8",
        "id": "eKdmuhFGCIBe"
      },
      "execution_count": null,
      "outputs": [
        {
          "output_type": "stream",
          "name": "stdout",
          "text": [
            "63/63 [==============================] - 1s 9ms/step - loss: 0.2876 - accuracy: 0.8806\n"
          ]
        },
        {
          "output_type": "execute_result",
          "data": {
            "text/plain": [
              "[0.28756043314933777, 0.8806002736091614]"
            ]
          },
          "metadata": {},
          "execution_count": 192
        }
      ]
    },
    {
      "cell_type": "code",
      "execution_count": null,
      "metadata": {
        "colab": {
          "base_uri": "https://localhost:8080/",
          "height": 320
        },
        "outputId": "320b8d8a-948b-408b-95a6-18712ef743c3",
        "id": "cyHOGvJpCIBf"
      },
      "outputs": [
        {
          "output_type": "display_data",
          "data": {
            "text/plain": [
              "<Figure size 1152x360 with 2 Axes>"
            ],
            "image/png": "[encoded data removed]"
          },
          "metadata": {
            "needs_background": "light"
          }
        }
      ],
      "source": [
        "# plot the accuracy and loss history\n",
        "metric_df = pd.DataFrame(history.history)\n",
        "fig, axs = plt.subplots(1, 2, figsize=(16, 5))\n",
        "for metric, ax in zip([\"loss\", \"accuracy\"], axs):\n",
        "  ax.plot(metric_df[metric], label=f'Training {metric}')\n",
        "  ax.plot(metric_df['val_' + metric], label=f'Validation {metric}')\n",
        "  ax.grid(True)\n",
        "  ax.legend()"
      ]
    }
  ],
  "metadata": {
    "colab": {
      "provenance": [],
      "collapsed_sections": [
        "mDu5_TYC_qSD",
        "bv4W2219vhES",
        "looM0UKRvll5",
        "TfKW_k9zu83I",
        "u-UZXg_PvssK",
        "0s6y4KRZtCJ9",
        "TVhuZt5tuhAO",
        "ToSwiye8rOA5",
        "eXvST9mL2XeD",
        "FldIL1X6DIq9"
      ]
    },
    "kernelspec": {
      "display_name": "Python 3",
      "name": "python3"
    },
    "language_info": {
      "name": "python"
    },
    "accelerator": "GPU",
    "gpuClass": "standard"
  },
  "nbformat": 4,
  "nbformat_minor": 0
}